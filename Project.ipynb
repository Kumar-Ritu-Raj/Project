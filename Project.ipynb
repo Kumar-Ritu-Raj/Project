{
  "cells": [
    {
      "cell_type": "markdown",
      "metadata": {
        "id": "view-in-github",
        "colab_type": "text"
      },
      "source": [
        "<a href=\"https://colab.research.google.com/github/Kumar-Ritu-Raj/Project/blob/main/Project.ipynb\" target=\"_parent\"><img src=\"https://colab.research.google.com/assets/colab-badge.svg\" alt=\"Open In Colab\"/></a>"
      ]
    },
    {
      "cell_type": "code",
      "execution_count": null,
      "metadata": {
        "colab": {
          "base_uri": "https://localhost:8080/",
          "height": 196
        },
        "id": "dRJ9DSadPI9C",
        "outputId": "0446ec67-823c-4d51-9376-b85f27cc2d84"
      },
      "outputs": [
        {
          "output_type": "execute_result",
          "data": {
            "text/plain": [
              "'\\n1) gender: \"Male\", \"Female\" or \"Other\"\\n2) age: age of the patient\\n3) hypertension: 0 if the patient doesn\\'t have hypertension, 1 if the patient has hypertension\\n4) heart disease: 0 if the patient doesn\\'t have any heart diseases, 1 if the patient has a heart disease 5) ever-married: \"No\" or \"Yes\"\\n6) worktype: \"children\", \"Govtjov\", \"Neverworked\", \"Private\" or \"Self-employed\" 7) Residencetype: \"Rural\" or \"Urban\"\\n8) avgglucoselevel: average glucose level in blood\\n9) bmi: body mass index\\n10) smoking_status: \"formerly smoked\", \"never smoked\", \"smokes\" or \"Unknown\"*\\n11) stroke: 1 if the patient had a stroke or 0 if not\\n\\n*Note: \"Unknown\" in smoking_status means that the information is unavailable for this patient\\n'"
            ],
            "application/vnd.google.colaboratory.intrinsic+json": {
              "type": "string"
            }
          },
          "metadata": {},
          "execution_count": 1
        }
      ],
      "source": [
        "#Project Brain Stroke Prediction :-\n",
        "#https://www.kaggle.com/code/emreiekyurt/brain-stroke-prediction/notebook\n",
        "\"\"\"\n",
        "1) gender: \"Male\", \"Female\" or \"Other\"\n",
        "2) age: age of the patient\n",
        "3) hypertension: 0 if the patient doesn't have hypertension, 1 if the patient has hypertension\n",
        "4) heart disease: 0 if the patient doesn't have any heart diseases, 1 if the patient has a heart disease 5) ever-married: \"No\" or \"Yes\"\n",
        "6) worktype: \"children\", \"Govtjov\", \"Neverworked\", \"Private\" or \"Self-employed\" 7) Residencetype: \"Rural\" or \"Urban\"\n",
        "8) avgglucoselevel: average glucose level in blood\n",
        "9) bmi: body mass index\n",
        "10) smoking_status: \"formerly smoked\", \"never smoked\", \"smokes\" or \"Unknown\"*\n",
        "11) stroke: 1 if the patient had a stroke or 0 if not\n",
        "\n",
        "*Note: \"Unknown\" in smoking_status means that the information is unavailable for this patient\n",
        "\"\"\""
      ]
    },
    {
      "cell_type": "markdown",
      "metadata": {
        "id": "iRKRMIYkI9iG"
      },
      "source": [
        "# Brain Stroke Prediction\n"
      ]
    },
    {
      "cell_type": "code",
      "execution_count": null,
      "metadata": {
        "id": "W4exsdstJ7ar"
      },
      "outputs": [],
      "source": [
        "import numpy as np \n",
        "import pandas as pd\n",
        "import matplotlib.pyplot as plt\n",
        "import seaborn as sns\n",
        "import warnings\n",
        "warnings.filterwarnings('ignore')"
      ]
    },
    {
      "cell_type": "code",
      "execution_count": null,
      "metadata": {
        "id": "mI-XvS0nPKN8"
      },
      "outputs": [],
      "source": [
        "Brain_stroke_data=pd.read_csv('https://raw.githubusercontent.com/Kumar-Ritu-Raj/Send/main/brain_stroke.csv')"
      ]
    },
    {
      "cell_type": "code",
      "execution_count": null,
      "metadata": {
        "colab": {
          "base_uri": "https://localhost:8080/"
        },
        "id": "zOHYM-H2PQO4",
        "outputId": "0a43b34d-536a-439f-c9fd-20d3d8a8d227"
      },
      "outputs": [
        {
          "output_type": "stream",
          "name": "stdout",
          "text": [
            "   gender   age  hypertension  heart_disease ever_married      work_type  \\\n",
            "0    Male  67.0             0              1          Yes        Private   \n",
            "1    Male  80.0             0              1          Yes        Private   \n",
            "2  Female  49.0             0              0          Yes        Private   \n",
            "3  Female  79.0             1              0          Yes  Self-employed   \n",
            "4    Male  81.0             0              0          Yes        Private   \n",
            "5    Male  74.0             1              1          Yes        Private   \n",
            "6  Female  69.0             0              0           No        Private   \n",
            "7  Female  78.0             0              0          Yes        Private   \n",
            "8  Female  81.0             1              0          Yes        Private   \n",
            "9  Female  61.0             0              1          Yes       Govt_job   \n",
            "\n",
            "  Residence_type  avg_glucose_level   bmi   smoking_status  stroke  \n",
            "0          Urban             228.69  36.6  formerly smoked       1  \n",
            "1          Rural             105.92  32.5     never smoked       1  \n",
            "2          Urban             171.23  34.4           smokes       1  \n",
            "3          Rural             174.12  24.0     never smoked       1  \n",
            "4          Urban             186.21  29.0  formerly smoked       1  \n",
            "5          Rural              70.09  27.4     never smoked       1  \n",
            "6          Urban              94.39  22.8     never smoked       1  \n",
            "7          Urban              58.57  24.2          Unknown       1  \n",
            "8          Rural              80.43  29.7     never smoked       1  \n",
            "9          Rural             120.46  36.8           smokes       1  \n"
          ]
        }
      ],
      "source": [
        "print(Brain_stroke_data.head(10))"
      ]
    },
    {
      "cell_type": "markdown",
      "metadata": {
        "id": "9l8tI8wAD-4w"
      },
      "source": [
        "# PRE-PROCESSING"
      ]
    },
    {
      "cell_type": "code",
      "execution_count": null,
      "metadata": {
        "colab": {
          "base_uri": "https://localhost:8080/"
        },
        "id": "J1D62ekRCTkL",
        "outputId": "81c958c4-2db8-48a7-e1f5-d92ea087fa81"
      },
      "outputs": [
        {
          "output_type": "stream",
          "name": "stdout",
          "text": [
            "<class 'pandas.core.frame.DataFrame'>\n",
            "RangeIndex: 4981 entries, 0 to 4980\n",
            "Data columns (total 11 columns):\n",
            " #   Column             Non-Null Count  Dtype  \n",
            "---  ------             --------------  -----  \n",
            " 0   gender             4981 non-null   object \n",
            " 1   age                4981 non-null   float64\n",
            " 2   hypertension       4981 non-null   int64  \n",
            " 3   heart_disease      4981 non-null   int64  \n",
            " 4   ever_married       4981 non-null   object \n",
            " 5   work_type          4981 non-null   object \n",
            " 6   Residence_type     4981 non-null   object \n",
            " 7   avg_glucose_level  4981 non-null   float64\n",
            " 8   bmi                4981 non-null   float64\n",
            " 9   smoking_status     4981 non-null   object \n",
            " 10  stroke             4981 non-null   int64  \n",
            "dtypes: float64(3), int64(3), object(5)\n",
            "memory usage: 428.2+ KB\n"
          ]
        }
      ],
      "source": [
        "Brain_stroke_data.info()"
      ]
    },
    {
      "cell_type": "code",
      "execution_count": null,
      "metadata": {
        "colab": {
          "base_uri": "https://localhost:8080/"
        },
        "id": "eWpRgb6PL6gw",
        "outputId": "69a78867-995c-4faf-b94b-648a5c7ee657"
      },
      "outputs": [
        {
          "output_type": "execute_result",
          "data": {
            "text/plain": [
              "gender               0\n",
              "age                  0\n",
              "hypertension         0\n",
              "heart_disease        0\n",
              "ever_married         0\n",
              "work_type            0\n",
              "Residence_type       0\n",
              "avg_glucose_level    0\n",
              "bmi                  0\n",
              "smoking_status       0\n",
              "stroke               0\n",
              "dtype: int64"
            ]
          },
          "metadata": {},
          "execution_count": 6
        }
      ],
      "source": [
        "Brain_stroke_data.isnull().sum()\n",
        "# gender age hypertension heart_disease avg_glucose_level bmi smoking_status stroke\n",
        "# age_band years summer...."
      ]
    },
    {
      "cell_type": "code",
      "execution_count": null,
      "metadata": {
        "id": "Tp54kuKmMADg"
      },
      "outputs": [],
      "source": [
        "Brain_stroke_data = Brain_stroke_data.drop([\"ever_married\", \"work_type\", \"Residence_type\"], axis =1)"
      ]
    },
    {
      "cell_type": "code",
      "execution_count": null,
      "metadata": {
        "colab": {
          "base_uri": "https://localhost:8080/",
          "height": 427
        },
        "id": "7S19VsWaMt45",
        "outputId": "be463474-53fe-43eb-9d5e-0a3a835be929"
      },
      "outputs": [
        {
          "output_type": "execute_result",
          "data": {
            "text/plain": [
              "   gender   age  hypertension  heart_disease  avg_glucose_level   bmi  \\\n",
              "0    Male  67.0             0              1             228.69  36.6   \n",
              "1    Male  80.0             0              1             105.92  32.5   \n",
              "2  Female  49.0             0              0             171.23  34.4   \n",
              "3  Female  79.0             1              0             174.12  24.0   \n",
              "4    Male  81.0             0              0             186.21  29.0   \n",
              "5    Male  74.0             1              1              70.09  27.4   \n",
              "6  Female  69.0             0              0              94.39  22.8   \n",
              "7  Female  78.0             0              0              58.57  24.2   \n",
              "8  Female  81.0             1              0              80.43  29.7   \n",
              "9  Female  61.0             0              1             120.46  36.8   \n",
              "\n",
              "    smoking_status  stroke  \n",
              "0  formerly smoked       1  \n",
              "1     never smoked       1  \n",
              "2           smokes       1  \n",
              "3     never smoked       1  \n",
              "4  formerly smoked       1  \n",
              "5     never smoked       1  \n",
              "6     never smoked       1  \n",
              "7          Unknown       1  \n",
              "8     never smoked       1  \n",
              "9           smokes       1  "
            ],
            "text/html": [
              "\n",
              "  <div id=\"df-411d490e-527a-409a-a4fb-38cd776788d5\">\n",
              "    <div class=\"colab-df-container\">\n",
              "      <div>\n",
              "<style scoped>\n",
              "    .dataframe tbody tr th:only-of-type {\n",
              "        vertical-align: middle;\n",
              "    }\n",
              "\n",
              "    .dataframe tbody tr th {\n",
              "        vertical-align: top;\n",
              "    }\n",
              "\n",
              "    .dataframe thead th {\n",
              "        text-align: right;\n",
              "    }\n",
              "</style>\n",
              "<table border=\"1\" class=\"dataframe\">\n",
              "  <thead>\n",
              "    <tr style=\"text-align: right;\">\n",
              "      <th></th>\n",
              "      <th>gender</th>\n",
              "      <th>age</th>\n",
              "      <th>hypertension</th>\n",
              "      <th>heart_disease</th>\n",
              "      <th>avg_glucose_level</th>\n",
              "      <th>bmi</th>\n",
              "      <th>smoking_status</th>\n",
              "      <th>stroke</th>\n",
              "    </tr>\n",
              "  </thead>\n",
              "  <tbody>\n",
              "    <tr>\n",
              "      <th>0</th>\n",
              "      <td>Male</td>\n",
              "      <td>67.0</td>\n",
              "      <td>0</td>\n",
              "      <td>1</td>\n",
              "      <td>228.69</td>\n",
              "      <td>36.6</td>\n",
              "      <td>formerly smoked</td>\n",
              "      <td>1</td>\n",
              "    </tr>\n",
              "    <tr>\n",
              "      <th>1</th>\n",
              "      <td>Male</td>\n",
              "      <td>80.0</td>\n",
              "      <td>0</td>\n",
              "      <td>1</td>\n",
              "      <td>105.92</td>\n",
              "      <td>32.5</td>\n",
              "      <td>never smoked</td>\n",
              "      <td>1</td>\n",
              "    </tr>\n",
              "    <tr>\n",
              "      <th>2</th>\n",
              "      <td>Female</td>\n",
              "      <td>49.0</td>\n",
              "      <td>0</td>\n",
              "      <td>0</td>\n",
              "      <td>171.23</td>\n",
              "      <td>34.4</td>\n",
              "      <td>smokes</td>\n",
              "      <td>1</td>\n",
              "    </tr>\n",
              "    <tr>\n",
              "      <th>3</th>\n",
              "      <td>Female</td>\n",
              "      <td>79.0</td>\n",
              "      <td>1</td>\n",
              "      <td>0</td>\n",
              "      <td>174.12</td>\n",
              "      <td>24.0</td>\n",
              "      <td>never smoked</td>\n",
              "      <td>1</td>\n",
              "    </tr>\n",
              "    <tr>\n",
              "      <th>4</th>\n",
              "      <td>Male</td>\n",
              "      <td>81.0</td>\n",
              "      <td>0</td>\n",
              "      <td>0</td>\n",
              "      <td>186.21</td>\n",
              "      <td>29.0</td>\n",
              "      <td>formerly smoked</td>\n",
              "      <td>1</td>\n",
              "    </tr>\n",
              "    <tr>\n",
              "      <th>5</th>\n",
              "      <td>Male</td>\n",
              "      <td>74.0</td>\n",
              "      <td>1</td>\n",
              "      <td>1</td>\n",
              "      <td>70.09</td>\n",
              "      <td>27.4</td>\n",
              "      <td>never smoked</td>\n",
              "      <td>1</td>\n",
              "    </tr>\n",
              "    <tr>\n",
              "      <th>6</th>\n",
              "      <td>Female</td>\n",
              "      <td>69.0</td>\n",
              "      <td>0</td>\n",
              "      <td>0</td>\n",
              "      <td>94.39</td>\n",
              "      <td>22.8</td>\n",
              "      <td>never smoked</td>\n",
              "      <td>1</td>\n",
              "    </tr>\n",
              "    <tr>\n",
              "      <th>7</th>\n",
              "      <td>Female</td>\n",
              "      <td>78.0</td>\n",
              "      <td>0</td>\n",
              "      <td>0</td>\n",
              "      <td>58.57</td>\n",
              "      <td>24.2</td>\n",
              "      <td>Unknown</td>\n",
              "      <td>1</td>\n",
              "    </tr>\n",
              "    <tr>\n",
              "      <th>8</th>\n",
              "      <td>Female</td>\n",
              "      <td>81.0</td>\n",
              "      <td>1</td>\n",
              "      <td>0</td>\n",
              "      <td>80.43</td>\n",
              "      <td>29.7</td>\n",
              "      <td>never smoked</td>\n",
              "      <td>1</td>\n",
              "    </tr>\n",
              "    <tr>\n",
              "      <th>9</th>\n",
              "      <td>Female</td>\n",
              "      <td>61.0</td>\n",
              "      <td>0</td>\n",
              "      <td>1</td>\n",
              "      <td>120.46</td>\n",
              "      <td>36.8</td>\n",
              "      <td>smokes</td>\n",
              "      <td>1</td>\n",
              "    </tr>\n",
              "  </tbody>\n",
              "</table>\n",
              "</div>\n",
              "      <button class=\"colab-df-convert\" onclick=\"convertToInteractive('df-411d490e-527a-409a-a4fb-38cd776788d5')\"\n",
              "              title=\"Convert this dataframe to an interactive table.\"\n",
              "              style=\"display:none;\">\n",
              "        \n",
              "  <svg xmlns=\"http://www.w3.org/2000/svg\" height=\"24px\"viewBox=\"0 0 24 24\"\n",
              "       width=\"24px\">\n",
              "    <path d=\"M0 0h24v24H0V0z\" fill=\"none\"/>\n",
              "    <path d=\"M18.56 5.44l.94 2.06.94-2.06 2.06-.94-2.06-.94-.94-2.06-.94 2.06-2.06.94zm-11 1L8.5 8.5l.94-2.06 2.06-.94-2.06-.94L8.5 2.5l-.94 2.06-2.06.94zm10 10l.94 2.06.94-2.06 2.06-.94-2.06-.94-.94-2.06-.94 2.06-2.06.94z\"/><path d=\"M17.41 7.96l-1.37-1.37c-.4-.4-.92-.59-1.43-.59-.52 0-1.04.2-1.43.59L10.3 9.45l-7.72 7.72c-.78.78-.78 2.05 0 2.83L4 21.41c.39.39.9.59 1.41.59.51 0 1.02-.2 1.41-.59l7.78-7.78 2.81-2.81c.8-.78.8-2.07 0-2.86zM5.41 20L4 18.59l7.72-7.72 1.47 1.35L5.41 20z\"/>\n",
              "  </svg>\n",
              "      </button>\n",
              "      \n",
              "  <style>\n",
              "    .colab-df-container {\n",
              "      display:flex;\n",
              "      flex-wrap:wrap;\n",
              "      gap: 12px;\n",
              "    }\n",
              "\n",
              "    .colab-df-convert {\n",
              "      background-color: #E8F0FE;\n",
              "      border: none;\n",
              "      border-radius: 50%;\n",
              "      cursor: pointer;\n",
              "      display: none;\n",
              "      fill: #1967D2;\n",
              "      height: 32px;\n",
              "      padding: 0 0 0 0;\n",
              "      width: 32px;\n",
              "    }\n",
              "\n",
              "    .colab-df-convert:hover {\n",
              "      background-color: #E2EBFA;\n",
              "      box-shadow: 0px 1px 2px rgba(60, 64, 67, 0.3), 0px 1px 3px 1px rgba(60, 64, 67, 0.15);\n",
              "      fill: #174EA6;\n",
              "    }\n",
              "\n",
              "    [theme=dark] .colab-df-convert {\n",
              "      background-color: #3B4455;\n",
              "      fill: #D2E3FC;\n",
              "    }\n",
              "\n",
              "    [theme=dark] .colab-df-convert:hover {\n",
              "      background-color: #434B5C;\n",
              "      box-shadow: 0px 1px 3px 1px rgba(0, 0, 0, 0.15);\n",
              "      filter: drop-shadow(0px 1px 2px rgba(0, 0, 0, 0.3));\n",
              "      fill: #FFFFFF;\n",
              "    }\n",
              "  </style>\n",
              "\n",
              "      <script>\n",
              "        const buttonEl =\n",
              "          document.querySelector('#df-411d490e-527a-409a-a4fb-38cd776788d5 button.colab-df-convert');\n",
              "        buttonEl.style.display =\n",
              "          google.colab.kernel.accessAllowed ? 'block' : 'none';\n",
              "\n",
              "        async function convertToInteractive(key) {\n",
              "          const element = document.querySelector('#df-411d490e-527a-409a-a4fb-38cd776788d5');\n",
              "          const dataTable =\n",
              "            await google.colab.kernel.invokeFunction('convertToInteractive',\n",
              "                                                     [key], {});\n",
              "          if (!dataTable) return;\n",
              "\n",
              "          const docLinkHtml = 'Like what you see? Visit the ' +\n",
              "            '<a target=\"_blank\" href=https://colab.research.google.com/notebooks/data_table.ipynb>data table notebook</a>'\n",
              "            + ' to learn more about interactive tables.';\n",
              "          element.innerHTML = '';\n",
              "          dataTable['output_type'] = 'display_data';\n",
              "          await google.colab.output.renderOutput(dataTable, element);\n",
              "          const docLink = document.createElement('div');\n",
              "          docLink.innerHTML = docLinkHtml;\n",
              "          element.appendChild(docLink);\n",
              "        }\n",
              "      </script>\n",
              "    </div>\n",
              "  </div>\n",
              "  "
            ]
          },
          "metadata": {},
          "execution_count": 8
        }
      ],
      "source": [
        "Brain_stroke_data.head(10)"
      ]
    },
    {
      "cell_type": "code",
      "execution_count": null,
      "metadata": {
        "colab": {
          "base_uri": "https://localhost:8080/"
        },
        "id": "7_cfUn1qTHMg",
        "outputId": "b99fc8dc-7c35-44e9-a716-c9bd17c17942"
      },
      "outputs": [
        {
          "output_type": "execute_result",
          "data": {
            "text/plain": [
              "Female    2907\n",
              "Male      2074\n",
              "Name: gender, dtype: int64"
            ]
          },
          "metadata": {},
          "execution_count": 9
        }
      ],
      "source": [
        "Brain_stroke_data['gender'].value_counts()"
      ]
    },
    {
      "cell_type": "code",
      "execution_count": null,
      "metadata": {
        "colab": {
          "base_uri": "https://localhost:8080/"
        },
        "id": "XPpkI9kGTdSA",
        "outputId": "4e23d418-e2db-488f-ad46-01076aeef547"
      },
      "outputs": [
        {
          "output_type": "execute_result",
          "data": {
            "text/plain": [
              "78.00    102\n",
              "57.00     92\n",
              "54.00     85\n",
              "51.00     84\n",
              "79.00     84\n",
              "        ... \n",
              "1.16       3\n",
              "0.48       3\n",
              "0.40       2\n",
              "0.08       2\n",
              "0.16       1\n",
              "Name: age, Length: 104, dtype: int64"
            ]
          },
          "metadata": {},
          "execution_count": 10
        }
      ],
      "source": [
        "Brain_stroke_data['age'].value_counts()"
      ]
    },
    {
      "cell_type": "code",
      "execution_count": null,
      "metadata": {
        "colab": {
          "base_uri": "https://localhost:8080/"
        },
        "id": "KEokAan8TmAz",
        "outputId": "2426a89c-5b6d-44a9-fdc7-58e552e9c266"
      },
      "outputs": [
        {
          "output_type": "execute_result",
          "data": {
            "text/plain": [
              "0    4502\n",
              "1     479\n",
              "Name: hypertension, dtype: int64"
            ]
          },
          "metadata": {},
          "execution_count": 11
        }
      ],
      "source": [
        "Brain_stroke_data['hypertension'].value_counts()"
      ]
    },
    {
      "cell_type": "code",
      "execution_count": null,
      "metadata": {
        "colab": {
          "base_uri": "https://localhost:8080/"
        },
        "id": "w4In7KDgTvA_",
        "outputId": "92ddb022-5a90-4766-9879-971789f3b191"
      },
      "outputs": [
        {
          "output_type": "execute_result",
          "data": {
            "text/plain": [
              "0    4706\n",
              "1     275\n",
              "Name: heart_disease, dtype: int64"
            ]
          },
          "metadata": {},
          "execution_count": 12
        }
      ],
      "source": [
        "Brain_stroke_data['heart_disease'].value_counts()"
      ]
    },
    {
      "cell_type": "code",
      "execution_count": null,
      "metadata": {
        "colab": {
          "base_uri": "https://localhost:8080/"
        },
        "id": "CB5wRsJFT1Rv",
        "outputId": "3cda162d-ce4c-4ee8-bc53-234c2f286c36"
      },
      "outputs": [
        {
          "output_type": "execute_result",
          "data": {
            "text/plain": [
              "93.88     6\n",
              "73.00     5\n",
              "83.16     5\n",
              "91.85     5\n",
              "72.49     5\n",
              "         ..\n",
              "130.56    1\n",
              "67.78     1\n",
              "116.12    1\n",
              "59.63     1\n",
              "83.94     1\n",
              "Name: avg_glucose_level, Length: 3895, dtype: int64"
            ]
          },
          "metadata": {},
          "execution_count": 13
        }
      ],
      "source": [
        "Brain_stroke_data['avg_glucose_level'].value_counts()"
      ]
    },
    {
      "cell_type": "code",
      "execution_count": null,
      "metadata": {
        "colab": {
          "base_uri": "https://localhost:8080/"
        },
        "id": "ddhK883oT5or",
        "outputId": "36af9f67-6e88-409d-fbc0-e3ebef72da4b"
      },
      "outputs": [
        {
          "output_type": "execute_result",
          "data": {
            "text/plain": [
              "28.7    42\n",
              "28.4    41\n",
              "27.3    38\n",
              "27.7    37\n",
              "26.7    37\n",
              "        ..\n",
              "48.4     1\n",
              "48.2     1\n",
              "46.6     1\n",
              "40.6     1\n",
              "14.9     1\n",
              "Name: bmi, Length: 342, dtype: int64"
            ]
          },
          "metadata": {},
          "execution_count": 14
        }
      ],
      "source": [
        "Brain_stroke_data['bmi'].value_counts()"
      ]
    },
    {
      "cell_type": "code",
      "execution_count": null,
      "metadata": {
        "colab": {
          "base_uri": "https://localhost:8080/"
        },
        "id": "9yekhHkAT50B",
        "outputId": "9f6a8535-f829-4152-df0d-05e69827cb38"
      },
      "outputs": [
        {
          "output_type": "execute_result",
          "data": {
            "text/plain": [
              "never smoked       1838\n",
              "Unknown            1500\n",
              "formerly smoked     867\n",
              "smokes              776\n",
              "Name: smoking_status, dtype: int64"
            ]
          },
          "metadata": {},
          "execution_count": 15
        }
      ],
      "source": [
        "Brain_stroke_data['smoking_status'].value_counts()"
      ]
    },
    {
      "cell_type": "code",
      "execution_count": null,
      "metadata": {
        "colab": {
          "base_uri": "https://localhost:8080/"
        },
        "id": "EnPpainBT6O5",
        "outputId": "6d77581d-0cf2-4ba8-c442-7a28b48560e3"
      },
      "outputs": [
        {
          "output_type": "execute_result",
          "data": {
            "text/plain": [
              "0    4733\n",
              "1     248\n",
              "Name: stroke, dtype: int64"
            ]
          },
          "metadata": {},
          "execution_count": 16
        }
      ],
      "source": [
        "Brain_stroke_data['stroke'].value_counts()"
      ]
    },
    {
      "cell_type": "markdown",
      "metadata": {
        "id": "t9Ja5piQdLnM"
      },
      "source": [
        "How many people get stroke before"
      ]
    },
    {
      "cell_type": "code",
      "execution_count": null,
      "metadata": {
        "colab": {
          "base_uri": "https://localhost:8080/",
          "height": 248
        },
        "id": "4n4kumU3dJXT",
        "outputId": "6e0fe750-cfa0-405c-b8b1-7ec2ea61341b"
      },
      "outputs": [
        {
          "output_type": "display_data",
          "data": {
            "text/plain": [
              "<Figure size 432x288 with 1 Axes>"
            ],
            "image/png": "[encoded data removed]"
          },
          "metadata": {}
        }
      ],
      "source": [
        "Stroke_pie_lable=['Had Not-Stroke Before','Had Stroke Before']\n",
        "Stroke_pie_exp = [0.4, 0]\n",
        "Stroke_pie_data=Brain_stroke_data['stroke'].value_counts()\n",
        "Pie_plot=plt.pie(Stroke_pie_data, labels = Stroke_pie_lable, autopct='%1.2f%%', explode = Stroke_pie_exp, shadow=True)\n",
        "\n",
        "plt.show()"
      ]
    },
    {
      "cell_type": "code",
      "execution_count": null,
      "metadata": {
        "colab": {
          "base_uri": "https://localhost:8080/"
        },
        "id": "EpwUJsP1s1KA",
        "outputId": "c9761456-e677-4c4a-8aa6-2394f70086fc"
      },
      "outputs": [
        {
          "output_type": "execute_result",
          "data": {
            "text/plain": [
              "gender  stroke\n",
              "Female  0         2767\n",
              "        1          140\n",
              "Male    0         1966\n",
              "        1          108\n",
              "Name: stroke, dtype: int64"
            ]
          },
          "metadata": {},
          "execution_count": 18
        }
      ],
      "source": [
        "Brain_stroke_data.groupby(['gender','stroke'])['stroke'].count()"
      ]
    },
    {
      "cell_type": "code",
      "execution_count": null,
      "metadata": {
        "colab": {
          "base_uri": "https://localhost:8080/",
          "height": 310
        },
        "id": "_QoR3UFx5LCF",
        "outputId": "c640d9f4-cc3c-450f-cd11-d72d04928ec6"
      },
      "outputs": [
        {
          "output_type": "display_data",
          "data": {
            "text/plain": [
              "<Figure size 432x288 with 1 Axes>"
            ],
            "image/png": "[encoded data removed]"
          },
          "metadata": {
            "needs_background": "light"
          }
        }
      ],
      "source": [
        "Gender_stroke=sns.countplot('gender',hue='stroke',data=Brain_stroke_data)\n",
        "Gender_stroke.set_title('Gender \\n Not Had A Stroke VS Had A Stroke')\n",
        "plt.show()"
      ]
    },
    {
      "cell_type": "code",
      "execution_count": null,
      "metadata": {
        "colab": {
          "base_uri": "https://localhost:8080/"
        },
        "id": "4jIl9RnG9srp",
        "outputId": "ab40c572-6273-4965-cb90-d0fc75080244"
      },
      "outputs": [
        {
          "output_type": "execute_result",
          "data": {
            "text/plain": [
              "hypertension  stroke\n",
              "0             0         4320\n",
              "              1          182\n",
              "1             0          413\n",
              "              1           66\n",
              "Name: stroke, dtype: int64"
            ]
          },
          "metadata": {},
          "execution_count": 20
        }
      ],
      "source": [
        "Brain_stroke_data.groupby(['hypertension','stroke'])['stroke'].count()"
      ]
    },
    {
      "cell_type": "code",
      "execution_count": null,
      "metadata": {
        "colab": {
          "base_uri": "https://localhost:8080/",
          "height": 387
        },
        "id": "5MX65CsR50Gc",
        "outputId": "eb7e19a2-4cd8-4ce9-acf9-77431225ea5c"
      },
      "outputs": [
        {
          "output_type": "display_data",
          "data": {
            "text/plain": [
              "<Figure size 1080x576 with 0 Axes>"
            ]
          },
          "metadata": {}
        },
        {
          "output_type": "display_data",
          "data": {
            "text/plain": [
              "<Figure size 432.125x360 with 1 Axes>"
            ],
            "image/png": "[encoded data removed]"
          },
          "metadata": {
            "needs_background": "light"
          }
        }
      ],
      "source": [
        "#in place of\n",
        "plt.figure(figsize = (15,8))\n",
        "sns.factorplot('hypertension','stroke',hue='gender',data=Brain_stroke_data)\n",
        "plt.show()\n",
        "#Hypertension_stroke=sns.countplot('hypertension',hue='stroke',data=Brain_stroke_data)\n",
        "#Hypertension_stroke.set_title('Hypertension \\n Had A Stroke VS Not Had A Stroke')\n",
        "#plt.show()"
      ]
    },
    {
      "cell_type": "code",
      "execution_count": null,
      "metadata": {
        "colab": {
          "base_uri": "https://localhost:8080/"
        },
        "id": "fFTQwvqbAfTD",
        "outputId": "f390d42c-0556-4ff6-b737-e4515a764bc7"
      },
      "outputs": [
        {
          "output_type": "execute_result",
          "data": {
            "text/plain": [
              "heart_disease  stroke\n",
              "0              0         4505\n",
              "               1          201\n",
              "1              0          228\n",
              "               1           47\n",
              "Name: stroke, dtype: int64"
            ]
          },
          "metadata": {},
          "execution_count": 22
        }
      ],
      "source": [
        "Brain_stroke_data.groupby(['heart_disease','stroke'])['stroke'].count()"
      ]
    },
    {
      "cell_type": "code",
      "execution_count": null,
      "metadata": {
        "colab": {
          "base_uri": "https://localhost:8080/",
          "height": 311
        },
        "id": "i8fN3QlSAfmz",
        "outputId": "d94d19ab-5de1-4ef3-f770-b3cec1515fba"
      },
      "outputs": [
        {
          "output_type": "display_data",
          "data": {
            "text/plain": [
              "<Figure size 432x288 with 1 Axes>"
            ],
            "image/png": "[encoded data removed]"
          },
          "metadata": {
            "needs_background": "light"
          }
        }
      ],
      "source": [
        "Heart_disease_stroke=sns.countplot('heart_disease',hue='stroke',data=Brain_stroke_data)\n",
        "Heart_disease_stroke.set_title('Heart Disease \\n Not Had A Stroke VS Had A Stroke')\n",
        "plt.show()"
      ]
    },
    {
      "cell_type": "code",
      "execution_count": null,
      "metadata": {
        "colab": {
          "base_uri": "https://localhost:8080/",
          "height": 238
        },
        "id": "iDGBEPnSBBNA",
        "outputId": "19507923-a426-493a-b4fb-909e3059c7e2"
      },
      "outputs": [
        {
          "output_type": "execute_result",
          "data": {
            "text/plain": [
              "<pandas.io.formats.style.Styler at 0x7f8549c96f10>"
            ],
            "text/html": [
              "<style type=\"text/css\">\n",
              "#T_4de11_row0_col0 {\n",
              "  background-color: #d11700;\n",
              "  color: #f1f1f1;\n",
              "}\n",
              "#T_4de11_row0_col1 {\n",
              "  background-color: #f90300;\n",
              "  color: #f1f1f1;\n",
              "}\n",
              "#T_4de11_row0_col2 {\n",
              "  background-color: #d31600;\n",
              "  color: #f1f1f1;\n",
              "}\n",
              "#T_4de11_row1_col0 {\n",
              "  background-color: #fb0200;\n",
              "  color: #f1f1f1;\n",
              "}\n",
              "#T_4de11_row1_col1 {\n",
              "  background-color: #dd1100;\n",
              "  color: #f1f1f1;\n",
              "}\n",
              "#T_4de11_row1_col2 {\n",
              "  background-color: #fa0300;\n",
              "  color: #f1f1f1;\n",
              "}\n",
              "#T_4de11_row2_col0, #T_4de11_row2_col2 {\n",
              "  background-color: #bf2000;\n",
              "  color: #f1f1f1;\n",
              "}\n",
              "#T_4de11_row2_col1 {\n",
              "  background-color: #c51d00;\n",
              "  color: #f1f1f1;\n",
              "}\n",
              "#T_4de11_row3_col0, #T_4de11_row3_col1, #T_4de11_row3_col2 {\n",
              "  background-color: #ff0000;\n",
              "  color: #f1f1f1;\n",
              "}\n",
              "#T_4de11_row4_col0, #T_4de11_row4_col1, #T_4de11_row4_col2 {\n",
              "  background-color: #008000;\n",
              "  color: #f1f1f1;\n",
              "}\n",
              "</style>\n",
              "<table id=\"T_4de11_\" class=\"dataframe\">\n",
              "  <thead>\n",
              "    <tr>\n",
              "      <th class=\"index_name level0\" >stroke</th>\n",
              "      <th class=\"col_heading level0 col0\" >0</th>\n",
              "      <th class=\"col_heading level0 col1\" >1</th>\n",
              "      <th class=\"col_heading level0 col2\" >All</th>\n",
              "    </tr>\n",
              "    <tr>\n",
              "      <th class=\"index_name level0\" >smoking_status</th>\n",
              "      <th class=\"blank col0\" >&nbsp;</th>\n",
              "      <th class=\"blank col1\" >&nbsp;</th>\n",
              "      <th class=\"blank col2\" >&nbsp;</th>\n",
              "    </tr>\n",
              "  </thead>\n",
              "  <tbody>\n",
              "    <tr>\n",
              "      <th id=\"T_4de11_level0_row0\" class=\"row_heading level0 row0\" >Unknown</th>\n",
              "      <td id=\"T_4de11_row0_col0\" class=\"data row0 col0\" >1453</td>\n",
              "      <td id=\"T_4de11_row0_col1\" class=\"data row0 col1\" >47</td>\n",
              "      <td id=\"T_4de11_row0_col2\" class=\"data row0 col2\" >1500</td>\n",
              "    </tr>\n",
              "    <tr>\n",
              "      <th id=\"T_4de11_level0_row1\" class=\"row_heading level0 row1\" >formerly smoked</th>\n",
              "      <td id=\"T_4de11_row1_col0\" class=\"data row1 col0\" >797</td>\n",
              "      <td id=\"T_4de11_row1_col1\" class=\"data row1 col1\" >70</td>\n",
              "      <td id=\"T_4de11_row1_col2\" class=\"data row1 col2\" >867</td>\n",
              "    </tr>\n",
              "    <tr>\n",
              "      <th id=\"T_4de11_level0_row2\" class=\"row_heading level0 row2\" >never smoked</th>\n",
              "      <td id=\"T_4de11_row2_col0\" class=\"data row2 col0\" >1749</td>\n",
              "      <td id=\"T_4de11_row2_col1\" class=\"data row2 col1\" >89</td>\n",
              "      <td id=\"T_4de11_row2_col2\" class=\"data row2 col2\" >1838</td>\n",
              "    </tr>\n",
              "    <tr>\n",
              "      <th id=\"T_4de11_level0_row3\" class=\"row_heading level0 row3\" >smokes</th>\n",
              "      <td id=\"T_4de11_row3_col0\" class=\"data row3 col0\" >734</td>\n",
              "      <td id=\"T_4de11_row3_col1\" class=\"data row3 col1\" >42</td>\n",
              "      <td id=\"T_4de11_row3_col2\" class=\"data row3 col2\" >776</td>\n",
              "    </tr>\n",
              "    <tr>\n",
              "      <th id=\"T_4de11_level0_row4\" class=\"row_heading level0 row4\" >All</th>\n",
              "      <td id=\"T_4de11_row4_col0\" class=\"data row4 col0\" >4733</td>\n",
              "      <td id=\"T_4de11_row4_col1\" class=\"data row4 col1\" >248</td>\n",
              "      <td id=\"T_4de11_row4_col2\" class=\"data row4 col2\" >4981</td>\n",
              "    </tr>\n",
              "  </tbody>\n",
              "</table>\n"
            ]
          },
          "metadata": {},
          "execution_count": 24
        }
      ],
      "source": [
        "cms = sns.color_palette(\"blend:red,green\", as_cmap=True)\n",
        "pd.crosstab(Brain_stroke_data.smoking_status,Brain_stroke_data.stroke,margins=True).style.background_gradient(cmap=cms)"
      ]
    },
    {
      "cell_type": "code",
      "execution_count": null,
      "metadata": {
        "colab": {
          "base_uri": "https://localhost:8080/",
          "height": 311
        },
        "id": "TC6eOX2Cz2VX",
        "outputId": "303fa3c7-acb6-41cd-a806-531af0b0c115"
      },
      "outputs": [
        {
          "output_type": "display_data",
          "data": {
            "text/plain": [
              "<Figure size 432x288 with 1 Axes>"
            ],
            "image/png": "[encoded data removed]"
          },
          "metadata": {
            "needs_background": "light"
          }
        }
      ],
      "source": [
        "Smoking_status_stroke=sns.countplot('smoking_status',hue='stroke',data=Brain_stroke_data)\n",
        "Smoking_status_stroke.set_title('Smoking Status \\n Never Had A Stroke VS Had A Stroke')\n",
        "plt.show()"
      ]
    },
    {
      "cell_type": "code",
      "execution_count": null,
      "metadata": {
        "colab": {
          "base_uri": "https://localhost:8080/",
          "height": 238
        },
        "id": "ilC2k37s1NDu",
        "outputId": "454453da-909e-4e42-a0af-a9db1cb43939"
      },
      "outputs": [
        {
          "output_type": "execute_result",
          "data": {
            "text/plain": [
              "<pandas.io.formats.style.Styler at 0x7f854980c880>"
            ],
            "text/html": [
              "<style type=\"text/css\">\n",
              "#T_85880_row0_col0 {\n",
              "  background-color: #7c7c83;\n",
              "  color: #f1f1f1;\n",
              "}\n",
              "#T_85880_row0_col1 {\n",
              "  background-color: #868679;\n",
              "  color: #f1f1f1;\n",
              "}\n",
              "#T_85880_row0_col2 {\n",
              "  background-color: #63639c;\n",
              "  color: #f1f1f1;\n",
              "}\n",
              "#T_85880_row0_col3 {\n",
              "  background-color: #777788;\n",
              "  color: #f1f1f1;\n",
              "}\n",
              "#T_85880_row0_col4 {\n",
              "  background-color: #74748b;\n",
              "  color: #f1f1f1;\n",
              "}\n",
              "#T_85880_row1_col0, #T_85880_row1_col1, #T_85880_row1_col3, #T_85880_row3_col0, #T_85880_row3_col1, #T_85880_row3_col2, #T_85880_row3_col4 {\n",
              "  background-color: #ffff00;\n",
              "  color: #000000;\n",
              "}\n",
              "#T_85880_row1_col2 {\n",
              "  background-color: #fbfb04;\n",
              "  color: #000000;\n",
              "}\n",
              "#T_85880_row1_col4, #T_85880_row3_col3 {\n",
              "  background-color: #fefe01;\n",
              "  color: #000000;\n",
              "}\n",
              "#T_85880_row2_col0 {\n",
              "  background-color: #8f8f70;\n",
              "  color: #f1f1f1;\n",
              "}\n",
              "#T_85880_row2_col1 {\n",
              "  background-color: #999966;\n",
              "  color: #f1f1f1;\n",
              "}\n",
              "#T_85880_row2_col2 {\n",
              "  background-color: #acac53;\n",
              "  color: #f1f1f1;\n",
              "}\n",
              "#T_85880_row2_col3 {\n",
              "  background-color: #9c9c63;\n",
              "  color: #f1f1f1;\n",
              "}\n",
              "#T_85880_row2_col4 {\n",
              "  background-color: #9e9e61;\n",
              "  color: #f1f1f1;\n",
              "}\n",
              "#T_85880_row4_col0, #T_85880_row4_col1, #T_85880_row4_col2, #T_85880_row4_col3, #T_85880_row4_col4 {\n",
              "  background-color: #0000ff;\n",
              "  color: #f1f1f1;\n",
              "}\n",
              "</style>\n",
              "<table id=\"T_85880_\" class=\"dataframe\">\n",
              "  <thead>\n",
              "    <tr>\n",
              "      <th class=\"blank\" >&nbsp;</th>\n",
              "      <th class=\"index_name level0\" >smoking_status</th>\n",
              "      <th class=\"col_heading level0 col0\" >Unknown</th>\n",
              "      <th class=\"col_heading level0 col1\" >formerly smoked</th>\n",
              "      <th class=\"col_heading level0 col2\" >never smoked</th>\n",
              "      <th class=\"col_heading level0 col3\" >smokes</th>\n",
              "      <th class=\"col_heading level0 col4\" >All</th>\n",
              "    </tr>\n",
              "    <tr>\n",
              "      <th class=\"index_name level0\" >gender</th>\n",
              "      <th class=\"index_name level1\" >stroke</th>\n",
              "      <th class=\"blank col0\" >&nbsp;</th>\n",
              "      <th class=\"blank col1\" >&nbsp;</th>\n",
              "      <th class=\"blank col2\" >&nbsp;</th>\n",
              "      <th class=\"blank col3\" >&nbsp;</th>\n",
              "      <th class=\"blank col4\" >&nbsp;</th>\n",
              "    </tr>\n",
              "  </thead>\n",
              "  <tbody>\n",
              "    <tr>\n",
              "      <th id=\"T_85880_level0_row0\" class=\"row_heading level0 row0\" rowspan=\"2\">Female</th>\n",
              "      <th id=\"T_85880_level1_row0\" class=\"row_heading level1 row0\" >0</th>\n",
              "      <td id=\"T_85880_row0_col0\" class=\"data row0 col0\" >783</td>\n",
              "      <td id=\"T_85880_row0_col1\" class=\"data row0 col1\" >430</td>\n",
              "      <td id=\"T_85880_row0_col2\" class=\"data row0 col2\" >1132</td>\n",
              "      <td id=\"T_85880_row0_col3\" class=\"data row0 col3\" >422</td>\n",
              "      <td id=\"T_85880_row0_col4\" class=\"data row0 col4\" >2767</td>\n",
              "    </tr>\n",
              "    <tr>\n",
              "      <th id=\"T_85880_level1_row1\" class=\"row_heading level1 row1\" >1</th>\n",
              "      <td id=\"T_85880_row1_col0\" class=\"data row1 col0\" >25</td>\n",
              "      <td id=\"T_85880_row1_col1\" class=\"data row1 col1\" >34</td>\n",
              "      <td id=\"T_85880_row1_col2\" class=\"data row1 col2\" >62</td>\n",
              "      <td id=\"T_85880_row1_col3\" class=\"data row1 col3\" >19</td>\n",
              "      <td id=\"T_85880_row1_col4\" class=\"data row1 col4\" >140</td>\n",
              "    </tr>\n",
              "    <tr>\n",
              "      <th id=\"T_85880_level0_row2\" class=\"row_heading level0 row2\" rowspan=\"2\">Male</th>\n",
              "      <th id=\"T_85880_level1_row2\" class=\"row_heading level1 row2\" >0</th>\n",
              "      <td id=\"T_85880_row2_col0\" class=\"data row2 col0\" >670</td>\n",
              "      <td id=\"T_85880_row2_col1\" class=\"data row2 col1\" >367</td>\n",
              "      <td id=\"T_85880_row2_col2\" class=\"data row2 col2\" >617</td>\n",
              "      <td id=\"T_85880_row2_col3\" class=\"data row2 col3\" >312</td>\n",
              "      <td id=\"T_85880_row2_col4\" class=\"data row2 col4\" >1966</td>\n",
              "    </tr>\n",
              "    <tr>\n",
              "      <th id=\"T_85880_level1_row3\" class=\"row_heading level1 row3\" >1</th>\n",
              "      <td id=\"T_85880_row3_col0\" class=\"data row3 col0\" >22</td>\n",
              "      <td id=\"T_85880_row3_col1\" class=\"data row3 col1\" >36</td>\n",
              "      <td id=\"T_85880_row3_col2\" class=\"data row3 col2\" >27</td>\n",
              "      <td id=\"T_85880_row3_col3\" class=\"data row3 col3\" >23</td>\n",
              "      <td id=\"T_85880_row3_col4\" class=\"data row3 col4\" >108</td>\n",
              "    </tr>\n",
              "    <tr>\n",
              "      <th id=\"T_85880_level0_row4\" class=\"row_heading level0 row4\" >All</th>\n",
              "      <th id=\"T_85880_level1_row4\" class=\"row_heading level1 row4\" ></th>\n",
              "      <td id=\"T_85880_row4_col0\" class=\"data row4 col0\" >1500</td>\n",
              "      <td id=\"T_85880_row4_col1\" class=\"data row4 col1\" >867</td>\n",
              "      <td id=\"T_85880_row4_col2\" class=\"data row4 col2\" >1838</td>\n",
              "      <td id=\"T_85880_row4_col3\" class=\"data row4 col3\" >776</td>\n",
              "      <td id=\"T_85880_row4_col4\" class=\"data row4 col4\" >4981</td>\n",
              "    </tr>\n",
              "  </tbody>\n",
              "</table>\n"
            ]
          },
          "metadata": {},
          "execution_count": 26
        }
      ],
      "source": [
        "cm = sns.color_palette(\"blend:yellow,blue\",as_cmap=True)\n",
        "pd.crosstab([Brain_stroke_data.gender,Brain_stroke_data.stroke],Brain_stroke_data.smoking_status,margins=True).style.background_gradient(cmap=cm)"
      ]
    },
    {
      "cell_type": "code",
      "execution_count": null,
      "metadata": {
        "colab": {
          "base_uri": "https://localhost:8080/",
          "height": 387
        },
        "id": "8csEtXn4BBji",
        "outputId": "a0c92a70-8f07-4c8c-d653-49f0052ac07e"
      },
      "outputs": [
        {
          "output_type": "display_data",
          "data": {
            "text/plain": [
              "<Figure size 1080x576 with 0 Axes>"
            ]
          },
          "metadata": {}
        },
        {
          "output_type": "display_data",
          "data": {
            "text/plain": [
              "<Figure size 432.125x360 with 1 Axes>"
            ],
            "image/png": "[encoded data removed]"
          },
          "metadata": {
            "needs_background": "light"
          }
        }
      ],
      "source": [
        "plt.figure(figsize = (15,8))\n",
        "sns.factorplot('smoking_status','stroke',hue='gender',data=Brain_stroke_data)\n",
        "plt.show()"
      ]
    },
    {
      "cell_type": "code",
      "execution_count": null,
      "metadata": {
        "colab": {
          "base_uri": "https://localhost:8080/"
        },
        "id": "u6W4sVK69IO0",
        "outputId": "fba748be-fac7-42e2-d97a-8e22094d3d39"
      },
      "outputs": [
        {
          "output_type": "stream",
          "name": "stdout",
          "text": [
            "Youngest Person was of: 0.08 Years\n",
            "Average Age in the data: 43.41985946597069 Years\n",
            "Oldest Person was of: 82.0 Years\n"
          ]
        }
      ],
      "source": [
        "print('Youngest Person was of:',Brain_stroke_data['age'].min(),'Years')\n",
        "print('Average Age in the data:',Brain_stroke_data['age'].mean(),'Years')\n",
        "print('Oldest Person was of:',Brain_stroke_data['age'].max(),'Years')"
      ]
    },
    {
      "cell_type": "code",
      "execution_count": null,
      "metadata": {
        "colab": {
          "base_uri": "https://localhost:8080/"
        },
        "id": "NRpYaqAO_TAv",
        "outputId": "90e05ee6-0e64-4872-fc77-6169f67962bc"
      },
      "outputs": [
        {
          "output_type": "stream",
          "name": "stdout",
          "text": [
            "Minimum \"Average Glucose Level\" in data: 55.12\n",
            "Average \"Average Glucose Level\" in data: 105.94356153382854\n",
            "Maximum \"Average Glucose Level\" in data: 271.74\n"
          ]
        }
      ],
      "source": [
        "print('Minimum \"Average Glucose Level\" in data:',Brain_stroke_data['avg_glucose_level'].min())\n",
        "print('Average \"Average Glucose Level\" in data:',Brain_stroke_data['avg_glucose_level'].mean())\n",
        "print('Maximum \"Average Glucose Level\" in data:',Brain_stroke_data['avg_glucose_level'].max())"
      ]
    },
    {
      "cell_type": "code",
      "execution_count": null,
      "metadata": {
        "colab": {
          "base_uri": "https://localhost:8080/"
        },
        "id": "v9elWRul_l3T",
        "outputId": "66b387e8-6754-4951-ae49-0dc74c6371f5"
      },
      "outputs": [
        {
          "output_type": "stream",
          "name": "stdout",
          "text": [
            "Minimum \"BMI\" in data: 14.0\n",
            "Average \"BMI\" in data: 28.498173057618956\n",
            "Maximum \"BMI\" in data: 48.9\n"
          ]
        }
      ],
      "source": [
        "print('Minimum \"BMI\" in data:',Brain_stroke_data['bmi'].min())\n",
        "print('Average \"BMI\" in data:',Brain_stroke_data['bmi'].mean())\n",
        "print('Maximum \"BMI\" in data:',Brain_stroke_data['bmi'].max())\n",
        "M_data=[Brain_stroke_data['age'].min(),Brain_stroke_data['age'].mean(),Brain_stroke_data['age'].max(),Brain_stroke_data['avg_glucose_level'].min(),Brain_stroke_data['avg_glucose_level'].mean(),Brain_stroke_data['avg_glucose_level'].max(),Brain_stroke_data['bmi'].min(),Brain_stroke_data['bmi'].mean(),Brain_stroke_data['bmi'].max()]\n"
      ]
    },
    {
      "cell_type": "code",
      "execution_count": null,
      "metadata": {
        "colab": {
          "base_uri": "https://localhost:8080/",
          "height": 280
        },
        "id": "fxFiETzV_1OV",
        "outputId": "5300f9ce-6513-41e8-982a-299e7031eb4e"
      },
      "outputs": [
        {
          "output_type": "display_data",
          "data": {
            "text/plain": [
              "<Figure size 1440x576 with 4 Axes>"
            ],
            "image/png": "[encoded data removed]"
          },
          "metadata": {
            "needs_background": "light"
          }
        }
      ],
      "source": [
        "f,ax=plt.subplots(1,4,figsize=(20,8))\n",
        "sns.distplot(Brain_stroke_data[Brain_stroke_data['smoking_status']==\"formerly smoked\"].avg_glucose_level,ax=ax[0])\n",
        "ax[0].set_title('Smokes status in formerly smoked')\n",
        "sns.distplot(Brain_stroke_data[Brain_stroke_data['smoking_status']==\"smokes\"].avg_glucose_level,ax=ax[1])\n",
        "ax[1].set_title('Smokes status in smokes')\n",
        "sns.distplot(Brain_stroke_data[Brain_stroke_data['smoking_status']== \"never smoked\"].avg_glucose_level,ax=ax[2])\n",
        "ax[2].set_title('Smokes status in never smokes')\n",
        "sns.distplot(Brain_stroke_data[Brain_stroke_data['smoking_status']== \"Unknown\"].avg_glucose_level,ax=ax[3])\n",
        "ax[3].set_title('Smokes status in Unknown')\n",
        "plt.show()"
      ]
    },
    {
      "cell_type": "code",
      "execution_count": null,
      "metadata": {
        "colab": {
          "base_uri": "https://localhost:8080/",
          "height": 565
        },
        "id": "vJfwcEq_RI44",
        "outputId": "3bf1e678-2713-4895-f568-c7bbf6d17f0d"
      },
      "outputs": [
        {
          "output_type": "display_data",
          "data": {
            "text/plain": [
              "<Figure size 720x576 with 2 Axes>"
            ],
            "image/png": "[encoded data removed]"
          },
          "metadata": {
            "needs_background": "light"
          }
        }
      ],
      "source": [
        "sns.heatmap(Brain_stroke_data.corr(),annot=True,linewidths=0.2) #data.corr()-->correlation matrix\n",
        "fig=plt.gcf()\n",
        "fig.set_size_inches(10,8)\n",
        "plt.show()"
      ]
    },
    {
      "cell_type": "code",
      "execution_count": null,
      "metadata": {
        "id": "I5irKWqYR50w"
      },
      "outputs": [],
      "source": [
        "Brain_stroke_data.insert(2,'age_band', np.zeros)"
      ]
    },
    {
      "cell_type": "code",
      "execution_count": null,
      "metadata": {
        "id": "KrbGaBqm-9PI"
      },
      "outputs": [],
      "source": [
        "Brain_stroke_data.loc[Brain_stroke_data['age']<=16,'age_band']=0\n",
        "Brain_stroke_data.loc[(Brain_stroke_data['age']>16)&(Brain_stroke_data['age']<=32),'age_band']=1\n",
        "Brain_stroke_data.loc[(Brain_stroke_data['age']>32)&(Brain_stroke_data['age']<=48),'age_band']=2\n",
        "Brain_stroke_data.loc[(Brain_stroke_data['age']>48)&(Brain_stroke_data['age']<=64),'age_band']=3\n",
        "Brain_stroke_data.loc[Brain_stroke_data['age']>64,'age_band']=4"
      ]
    },
    {
      "cell_type": "code",
      "execution_count": null,
      "metadata": {
        "id": "raxiNuU7TR5h"
      },
      "outputs": [],
      "source": [
        "Brain_stroke_data.drop(columns= \"age\", inplace=True)"
      ]
    },
    {
      "cell_type": "code",
      "execution_count": null,
      "metadata": {
        "colab": {
          "base_uri": "https://localhost:8080/",
          "height": 270
        },
        "id": "RyIFzbXdTXtI",
        "outputId": "d32c00c7-752c-43ec-be8a-213cce99f801"
      },
      "outputs": [
        {
          "output_type": "execute_result",
          "data": {
            "text/plain": [
              "   gender  age_band  hypertension  heart_disease  avg_glucose_level   bmi  \\\n",
              "0    Male         4             0              1             228.69  36.6   \n",
              "1    Male         4             0              1             105.92  32.5   \n",
              "2  Female         3             0              0             171.23  34.4   \n",
              "3  Female         4             1              0             174.12  24.0   \n",
              "4    Male         4             0              0             186.21  29.0   \n",
              "\n",
              "    smoking_status  stroke  \n",
              "0  formerly smoked       1  \n",
              "1     never smoked       1  \n",
              "2           smokes       1  \n",
              "3     never smoked       1  \n",
              "4  formerly smoked       1  "
            ],
            "text/html": [
              "\n",
              "  <div id=\"df-789cd708-1ba5-4244-9230-11430b7fdf21\">\n",
              "    <div class=\"colab-df-container\">\n",
              "      <div>\n",
              "<style scoped>\n",
              "    .dataframe tbody tr th:only-of-type {\n",
              "        vertical-align: middle;\n",
              "    }\n",
              "\n",
              "    .dataframe tbody tr th {\n",
              "        vertical-align: top;\n",
              "    }\n",
              "\n",
              "    .dataframe thead th {\n",
              "        text-align: right;\n",
              "    }\n",
              "</style>\n",
              "<table border=\"1\" class=\"dataframe\">\n",
              "  <thead>\n",
              "    <tr style=\"text-align: right;\">\n",
              "      <th></th>\n",
              "      <th>gender</th>\n",
              "      <th>age_band</th>\n",
              "      <th>hypertension</th>\n",
              "      <th>heart_disease</th>\n",
              "      <th>avg_glucose_level</th>\n",
              "      <th>bmi</th>\n",
              "      <th>smoking_status</th>\n",
              "      <th>stroke</th>\n",
              "    </tr>\n",
              "  </thead>\n",
              "  <tbody>\n",
              "    <tr>\n",
              "      <th>0</th>\n",
              "      <td>Male</td>\n",
              "      <td>4</td>\n",
              "      <td>0</td>\n",
              "      <td>1</td>\n",
              "      <td>228.69</td>\n",
              "      <td>36.6</td>\n",
              "      <td>formerly smoked</td>\n",
              "      <td>1</td>\n",
              "    </tr>\n",
              "    <tr>\n",
              "      <th>1</th>\n",
              "      <td>Male</td>\n",
              "      <td>4</td>\n",
              "      <td>0</td>\n",
              "      <td>1</td>\n",
              "      <td>105.92</td>\n",
              "      <td>32.5</td>\n",
              "      <td>never smoked</td>\n",
              "      <td>1</td>\n",
              "    </tr>\n",
              "    <tr>\n",
              "      <th>2</th>\n",
              "      <td>Female</td>\n",
              "      <td>3</td>\n",
              "      <td>0</td>\n",
              "      <td>0</td>\n",
              "      <td>171.23</td>\n",
              "      <td>34.4</td>\n",
              "      <td>smokes</td>\n",
              "      <td>1</td>\n",
              "    </tr>\n",
              "    <tr>\n",
              "      <th>3</th>\n",
              "      <td>Female</td>\n",
              "      <td>4</td>\n",
              "      <td>1</td>\n",
              "      <td>0</td>\n",
              "      <td>174.12</td>\n",
              "      <td>24.0</td>\n",
              "      <td>never smoked</td>\n",
              "      <td>1</td>\n",
              "    </tr>\n",
              "    <tr>\n",
              "      <th>4</th>\n",
              "      <td>Male</td>\n",
              "      <td>4</td>\n",
              "      <td>0</td>\n",
              "      <td>0</td>\n",
              "      <td>186.21</td>\n",
              "      <td>29.0</td>\n",
              "      <td>formerly smoked</td>\n",
              "      <td>1</td>\n",
              "    </tr>\n",
              "  </tbody>\n",
              "</table>\n",
              "</div>\n",
              "      <button class=\"colab-df-convert\" onclick=\"convertToInteractive('df-789cd708-1ba5-4244-9230-11430b7fdf21')\"\n",
              "              title=\"Convert this dataframe to an interactive table.\"\n",
              "              style=\"display:none;\">\n",
              "        \n",
              "  <svg xmlns=\"http://www.w3.org/2000/svg\" height=\"24px\"viewBox=\"0 0 24 24\"\n",
              "       width=\"24px\">\n",
              "    <path d=\"M0 0h24v24H0V0z\" fill=\"none\"/>\n",
              "    <path d=\"M18.56 5.44l.94 2.06.94-2.06 2.06-.94-2.06-.94-.94-2.06-.94 2.06-2.06.94zm-11 1L8.5 8.5l.94-2.06 2.06-.94-2.06-.94L8.5 2.5l-.94 2.06-2.06.94zm10 10l.94 2.06.94-2.06 2.06-.94-2.06-.94-.94-2.06-.94 2.06-2.06.94z\"/><path d=\"M17.41 7.96l-1.37-1.37c-.4-.4-.92-.59-1.43-.59-.52 0-1.04.2-1.43.59L10.3 9.45l-7.72 7.72c-.78.78-.78 2.05 0 2.83L4 21.41c.39.39.9.59 1.41.59.51 0 1.02-.2 1.41-.59l7.78-7.78 2.81-2.81c.8-.78.8-2.07 0-2.86zM5.41 20L4 18.59l7.72-7.72 1.47 1.35L5.41 20z\"/>\n",
              "  </svg>\n",
              "      </button>\n",
              "      \n",
              "  <style>\n",
              "    .colab-df-container {\n",
              "      display:flex;\n",
              "      flex-wrap:wrap;\n",
              "      gap: 12px;\n",
              "    }\n",
              "\n",
              "    .colab-df-convert {\n",
              "      background-color: #E8F0FE;\n",
              "      border: none;\n",
              "      border-radius: 50%;\n",
              "      cursor: pointer;\n",
              "      display: none;\n",
              "      fill: #1967D2;\n",
              "      height: 32px;\n",
              "      padding: 0 0 0 0;\n",
              "      width: 32px;\n",
              "    }\n",
              "\n",
              "    .colab-df-convert:hover {\n",
              "      background-color: #E2EBFA;\n",
              "      box-shadow: 0px 1px 2px rgba(60, 64, 67, 0.3), 0px 1px 3px 1px rgba(60, 64, 67, 0.15);\n",
              "      fill: #174EA6;\n",
              "    }\n",
              "\n",
              "    [theme=dark] .colab-df-convert {\n",
              "      background-color: #3B4455;\n",
              "      fill: #D2E3FC;\n",
              "    }\n",
              "\n",
              "    [theme=dark] .colab-df-convert:hover {\n",
              "      background-color: #434B5C;\n",
              "      box-shadow: 0px 1px 3px 1px rgba(0, 0, 0, 0.15);\n",
              "      filter: drop-shadow(0px 1px 2px rgba(0, 0, 0, 0.3));\n",
              "      fill: #FFFFFF;\n",
              "    }\n",
              "  </style>\n",
              "\n",
              "      <script>\n",
              "        const buttonEl =\n",
              "          document.querySelector('#df-789cd708-1ba5-4244-9230-11430b7fdf21 button.colab-df-convert');\n",
              "        buttonEl.style.display =\n",
              "          google.colab.kernel.accessAllowed ? 'block' : 'none';\n",
              "\n",
              "        async function convertToInteractive(key) {\n",
              "          const element = document.querySelector('#df-789cd708-1ba5-4244-9230-11430b7fdf21');\n",
              "          const dataTable =\n",
              "            await google.colab.kernel.invokeFunction('convertToInteractive',\n",
              "                                                     [key], {});\n",
              "          if (!dataTable) return;\n",
              "\n",
              "          const docLinkHtml = 'Like what you see? Visit the ' +\n",
              "            '<a target=\"_blank\" href=https://colab.research.google.com/notebooks/data_table.ipynb>data table notebook</a>'\n",
              "            + ' to learn more about interactive tables.';\n",
              "          element.innerHTML = '';\n",
              "          dataTable['output_type'] = 'display_data';\n",
              "          await google.colab.output.renderOutput(dataTable, element);\n",
              "          const docLink = document.createElement('div');\n",
              "          docLink.innerHTML = docLinkHtml;\n",
              "          element.appendChild(docLink);\n",
              "        }\n",
              "      </script>\n",
              "    </div>\n",
              "  </div>\n",
              "  "
            ]
          },
          "metadata": {},
          "execution_count": 36
        }
      ],
      "source": [
        "Brain_stroke_data[\"age_band\"]=Brain_stroke_data['age_band'].astype(str).astype(int)\n",
        "Brain_stroke_data.head()"
      ]
    },
    {
      "cell_type": "code",
      "execution_count": null,
      "metadata": {
        "colab": {
          "base_uri": "https://localhost:8080/",
          "height": 206
        },
        "id": "8FnEklsjTnYF",
        "outputId": "d75996cb-7f45-403e-a4b9-aa8cd51370a7"
      },
      "outputs": [
        {
          "output_type": "execute_result",
          "data": {
            "text/plain": [
              "   age_band\n",
              "3      1229\n",
              "2      1067\n",
              "4      1020\n",
              "1       895\n",
              "0       770"
            ],
            "text/html": [
              "\n",
              "  <div id=\"df-4a85f33f-120c-40ed-83e6-eb307c561431\">\n",
              "    <div class=\"colab-df-container\">\n",
              "      <div>\n",
              "<style scoped>\n",
              "    .dataframe tbody tr th:only-of-type {\n",
              "        vertical-align: middle;\n",
              "    }\n",
              "\n",
              "    .dataframe tbody tr th {\n",
              "        vertical-align: top;\n",
              "    }\n",
              "\n",
              "    .dataframe thead th {\n",
              "        text-align: right;\n",
              "    }\n",
              "</style>\n",
              "<table border=\"1\" class=\"dataframe\">\n",
              "  <thead>\n",
              "    <tr style=\"text-align: right;\">\n",
              "      <th></th>\n",
              "      <th>age_band</th>\n",
              "    </tr>\n",
              "  </thead>\n",
              "  <tbody>\n",
              "    <tr>\n",
              "      <th>3</th>\n",
              "      <td>1229</td>\n",
              "    </tr>\n",
              "    <tr>\n",
              "      <th>2</th>\n",
              "      <td>1067</td>\n",
              "    </tr>\n",
              "    <tr>\n",
              "      <th>4</th>\n",
              "      <td>1020</td>\n",
              "    </tr>\n",
              "    <tr>\n",
              "      <th>1</th>\n",
              "      <td>895</td>\n",
              "    </tr>\n",
              "    <tr>\n",
              "      <th>0</th>\n",
              "      <td>770</td>\n",
              "    </tr>\n",
              "  </tbody>\n",
              "</table>\n",
              "</div>\n",
              "      <button class=\"colab-df-convert\" onclick=\"convertToInteractive('df-4a85f33f-120c-40ed-83e6-eb307c561431')\"\n",
              "              title=\"Convert this dataframe to an interactive table.\"\n",
              "              style=\"display:none;\">\n",
              "        \n",
              "  <svg xmlns=\"http://www.w3.org/2000/svg\" height=\"24px\"viewBox=\"0 0 24 24\"\n",
              "       width=\"24px\">\n",
              "    <path d=\"M0 0h24v24H0V0z\" fill=\"none\"/>\n",
              "    <path d=\"M18.56 5.44l.94 2.06.94-2.06 2.06-.94-2.06-.94-.94-2.06-.94 2.06-2.06.94zm-11 1L8.5 8.5l.94-2.06 2.06-.94-2.06-.94L8.5 2.5l-.94 2.06-2.06.94zm10 10l.94 2.06.94-2.06 2.06-.94-2.06-.94-.94-2.06-.94 2.06-2.06.94z\"/><path d=\"M17.41 7.96l-1.37-1.37c-.4-.4-.92-.59-1.43-.59-.52 0-1.04.2-1.43.59L10.3 9.45l-7.72 7.72c-.78.78-.78 2.05 0 2.83L4 21.41c.39.39.9.59 1.41.59.51 0 1.02-.2 1.41-.59l7.78-7.78 2.81-2.81c.8-.78.8-2.07 0-2.86zM5.41 20L4 18.59l7.72-7.72 1.47 1.35L5.41 20z\"/>\n",
              "  </svg>\n",
              "      </button>\n",
              "      \n",
              "  <style>\n",
              "    .colab-df-container {\n",
              "      display:flex;\n",
              "      flex-wrap:wrap;\n",
              "      gap: 12px;\n",
              "    }\n",
              "\n",
              "    .colab-df-convert {\n",
              "      background-color: #E8F0FE;\n",
              "      border: none;\n",
              "      border-radius: 50%;\n",
              "      cursor: pointer;\n",
              "      display: none;\n",
              "      fill: #1967D2;\n",
              "      height: 32px;\n",
              "      padding: 0 0 0 0;\n",
              "      width: 32px;\n",
              "    }\n",
              "\n",
              "    .colab-df-convert:hover {\n",
              "      background-color: #E2EBFA;\n",
              "      box-shadow: 0px 1px 2px rgba(60, 64, 67, 0.3), 0px 1px 3px 1px rgba(60, 64, 67, 0.15);\n",
              "      fill: #174EA6;\n",
              "    }\n",
              "\n",
              "    [theme=dark] .colab-df-convert {\n",
              "      background-color: #3B4455;\n",
              "      fill: #D2E3FC;\n",
              "    }\n",
              "\n",
              "    [theme=dark] .colab-df-convert:hover {\n",
              "      background-color: #434B5C;\n",
              "      box-shadow: 0px 1px 3px 1px rgba(0, 0, 0, 0.15);\n",
              "      filter: drop-shadow(0px 1px 2px rgba(0, 0, 0, 0.3));\n",
              "      fill: #FFFFFF;\n",
              "    }\n",
              "  </style>\n",
              "\n",
              "      <script>\n",
              "        const buttonEl =\n",
              "          document.querySelector('#df-4a85f33f-120c-40ed-83e6-eb307c561431 button.colab-df-convert');\n",
              "        buttonEl.style.display =\n",
              "          google.colab.kernel.accessAllowed ? 'block' : 'none';\n",
              "\n",
              "        async function convertToInteractive(key) {\n",
              "          const element = document.querySelector('#df-4a85f33f-120c-40ed-83e6-eb307c561431');\n",
              "          const dataTable =\n",
              "            await google.colab.kernel.invokeFunction('convertToInteractive',\n",
              "                                                     [key], {});\n",
              "          if (!dataTable) return;\n",
              "\n",
              "          const docLinkHtml = 'Like what you see? Visit the ' +\n",
              "            '<a target=\"_blank\" href=https://colab.research.google.com/notebooks/data_table.ipynb>data table notebook</a>'\n",
              "            + ' to learn more about interactive tables.';\n",
              "          element.innerHTML = '';\n",
              "          dataTable['output_type'] = 'display_data';\n",
              "          await google.colab.output.renderOutput(dataTable, element);\n",
              "          const docLink = document.createElement('div');\n",
              "          docLink.innerHTML = docLinkHtml;\n",
              "          element.appendChild(docLink);\n",
              "        }\n",
              "      </script>\n",
              "    </div>\n",
              "  </div>\n",
              "  "
            ]
          },
          "metadata": {},
          "execution_count": 37
        }
      ],
      "source": [
        "Brain_stroke_data['age_band'].value_counts().to_frame()"
      ]
    },
    {
      "cell_type": "code",
      "execution_count": null,
      "metadata": {
        "colab": {
          "base_uri": "https://localhost:8080/",
          "height": 171
        },
        "id": "UHVoCDbvTwkV",
        "outputId": "75c04978-5b34-490d-f512-9db4f6dc5b97"
      },
      "outputs": [
        {
          "output_type": "display_data",
          "data": {
            "text/plain": [
              "<Figure size 1440x360 with 4 Axes>"
            ],
            "image/png": "[encoded data removed]"
          },
          "metadata": {
            "needs_background": "light"
          }
        }
      ],
      "source": [
        "sns.factorplot('age_band','stroke',data=Brain_stroke_data,col='smoking_status')\n",
        "plt.show()"
      ]
    },
    {
      "cell_type": "code",
      "execution_count": null,
      "metadata": {
        "colab": {
          "base_uri": "https://localhost:8080/",
          "height": 446
        },
        "id": "JgKIIu2pUDSc",
        "outputId": "4c37cd38-8881-4d9c-9d88-eef48687ece4"
      },
      "outputs": [
        {
          "output_type": "display_data",
          "data": {
            "text/plain": [
              "0       0.841577\n",
              "1       0.389784\n",
              "2       0.630124\n",
              "3       0.640760\n",
              "4       0.685251\n",
              "          ...   \n",
              "4976    0.258151\n",
              "4977    0.703430\n",
              "4978    0.349672\n",
              "4979    0.308898\n",
              "4980    0.308199\n",
              "Name: avg_glucose_level, Length: 4981, dtype: float64"
            ]
          },
          "metadata": {}
        },
        {
          "output_type": "display_data",
          "data": {
            "text/plain": [
              "0       0.748466\n",
              "1       0.664622\n",
              "2       0.703476\n",
              "3       0.490798\n",
              "4       0.593047\n",
              "          ...   \n",
              "4976    0.609407\n",
              "4977    0.635992\n",
              "4978    0.650307\n",
              "4979    0.613497\n",
              "4980    0.595092\n",
              "Name: bmi, Length: 4981, dtype: float64"
            ]
          },
          "metadata": {}
        }
      ],
      "source": [
        "# copy the data\n",
        "Brain_stroke_data = Brain_stroke_data.copy()\n",
        "  \n",
        "# apply normalization techniques on Columns\n",
        "column = 'avg_glucose_level'\n",
        "column2 = 'bmi'\n",
        "Brain_stroke_data[column] = Brain_stroke_data[column] /Brain_stroke_data[column].abs().max()\n",
        "Brain_stroke_data[column2] = Brain_stroke_data[column2] /Brain_stroke_data[column2].abs().max()\n",
        "  \n",
        "# view normalized data\n",
        "display(Brain_stroke_data[column], Brain_stroke_data[column2])"
      ]
    },
    {
      "cell_type": "code",
      "execution_count": null,
      "metadata": {
        "colab": {
          "base_uri": "https://localhost:8080/"
        },
        "id": "sjbHisG7UZ6T",
        "outputId": "a844c582-11c0-4b02-d150-dcd2ce0f2898"
      },
      "outputs": [
        {
          "output_type": "execute_result",
          "data": {
            "text/plain": [
              "0    0\n",
              "1    0\n",
              "2    1\n",
              "3    1\n",
              "4    0\n",
              "Name: gender, dtype: int64"
            ]
          },
          "metadata": {},
          "execution_count": 40
        }
      ],
      "source": [
        "Brain_stroke_data['gender'].replace(['Male','Female'],[0,1],inplace=True)\n",
        "Brain_stroke_data['gender'].head()"
      ]
    },
    {
      "cell_type": "code",
      "execution_count": null,
      "metadata": {
        "colab": {
          "base_uri": "https://localhost:8080/"
        },
        "id": "hHAElAIoU720",
        "outputId": "39914687-e6c1-4513-b6f5-c498347024ac"
      },
      "outputs": [
        {
          "output_type": "execute_result",
          "data": {
            "text/plain": [
              "array(['formerly smoked', 'never smoked', 'smokes', 'Unknown'],\n",
              "      dtype=object)"
            ]
          },
          "metadata": {},
          "execution_count": 41
        }
      ],
      "source": [
        "# What was the smoking status variables\n",
        "Brain_stroke_data[\"smoking_status\"].unique()"
      ]
    },
    {
      "cell_type": "code",
      "execution_count": null,
      "metadata": {
        "colab": {
          "base_uri": "https://localhost:8080/"
        },
        "id": "6HcoOzTWVWn6",
        "outputId": "e1894b36-ef61-4dce-8177-9137f84ed27d"
      },
      "outputs": [
        {
          "output_type": "execute_result",
          "data": {
            "text/plain": [
              "0    0\n",
              "1    1\n",
              "2    2\n",
              "3    1\n",
              "4    0\n",
              "Name: smoking_status, dtype: int64"
            ]
          },
          "metadata": {},
          "execution_count": 42
        }
      ],
      "source": [
        "Brain_stroke_data['smoking_status'].replace(['formerly smoked', 'never smoked', 'smokes', 'Unknown'],[0,1,2,3],inplace=True)\n",
        "Brain_stroke_data['smoking_status'].head()"
      ]
    },
    {
      "cell_type": "code",
      "execution_count": null,
      "metadata": {
        "colab": {
          "base_uri": "https://localhost:8080/"
        },
        "id": "m2Jluilw300c",
        "outputId": "86a5cc1c-5e28-44ed-d8dd-9564acc799ef"
      },
      "outputs": [
        {
          "output_type": "execute_result",
          "data": {
            "text/plain": [
              "0    4733\n",
              "1     248\n",
              "Name: stroke, dtype: int64"
            ]
          },
          "metadata": {},
          "execution_count": 43
        }
      ],
      "source": [
        "Brain_stroke_data['stroke'].value_counts()"
      ]
    },
    {
      "cell_type": "code",
      "execution_count": null,
      "metadata": {
        "id": "5o7m3FCaVgcg"
      },
      "outputs": [],
      "source": [
        "#importing all the required ML packages\n",
        "from sklearn.linear_model import LogisticRegression #logistic regression\n",
        "from sklearn import svm #support vector Machine\n",
        "from sklearn.ensemble import RandomForestClassifier #Random Forest\n",
        "from sklearn.neighbors import KNeighborsClassifier #KNN\n",
        "from sklearn.naive_bayes import GaussianNB #Naive bayes\n",
        "from sklearn.tree import DecisionTreeClassifier #Decision Tree\n",
        "from sklearn.model_selection import train_test_split #training and testing data split\n",
        "from sklearn import metrics #accuracy measure\n",
        "#from sklearn.metrics import confusion_matrix #for confusion matrix"
      ]
    },
    {
      "cell_type": "code",
      "execution_count": null,
      "metadata": {
        "colab": {
          "base_uri": "https://localhost:8080/"
        },
        "id": "juKnH5gUE3-E",
        "outputId": "97f51112-9566-4093-be9e-3b9ac0d08cc3"
      },
      "outputs": [
        {
          "output_type": "stream",
          "name": "stdout",
          "text": [
            "Train Data =  60.0 %\n",
            "Test Data =  40.0 %\n"
          ]
        }
      ],
      "source": [
        "test_size =0.4\n",
        "train,test=train_test_split(Brain_stroke_data,test_size=test_size,random_state=0,stratify=Brain_stroke_data['stroke'])\n",
        "train_X=train[train.columns[:-1]]\n",
        "train_Y=train[train.columns[-1:]]\n",
        "test_X=test[test.columns[:-1]]\n",
        "test_Y=test[test.columns[-1:]]\n",
        "X=Brain_stroke_data[Brain_stroke_data.columns[:-1]]\n",
        "Y=Brain_stroke_data[\"stroke\"]\n",
        "print(\"Train Data = \",100-test_size*100,\"%\\nTest Data = \",test_size*100,\"%\")\n",
        "len(train_X), len(train_Y), len(test_X), len(test_Y)\n",
        "\n",
        "T_data=[len(train_X), len(test_X),100-test_size*100,test_size*100,len(train_X)+len(test_X)]\n"
      ]
    },
    {
      "cell_type": "code",
      "execution_count": null,
      "metadata": {
        "colab": {
          "base_uri": "https://localhost:8080/"
        },
        "id": "b2DmrxGwpWIS",
        "outputId": "5d38af22-3942-47ca-9d37-2913b132124d"
      },
      "outputs": [
        {
          "output_type": "execute_result",
          "data": {
            "text/plain": [
              "0.9503261414952333"
            ]
          },
          "metadata": {},
          "execution_count": 46
        }
      ],
      "source": [
        "#Radial Support Vector Machines(rbf-SVM)\n",
        "model=svm.SVC(kernel='rbf',C=1,gamma=0.1)\n",
        "model.fit(train_X,train_Y)\n",
        "prediction_radial=model.predict(test_X)\n",
        "RSVM_Accuracy=metrics.accuracy_score(prediction_radial,test_Y)\n",
        "RSVM_Accuracy"
      ]
    },
    {
      "cell_type": "code",
      "execution_count": null,
      "metadata": {
        "colab": {
          "base_uri": "https://localhost:8080/"
        },
        "id": "SH9uuzyuqoob",
        "outputId": "ddc23903-b6f8-4e6c-b032-38f2f6fd5f90"
      },
      "outputs": [
        {
          "output_type": "execute_result",
          "data": {
            "text/plain": [
              "0.9503261414952333"
            ]
          },
          "metadata": {},
          "execution_count": 47
        }
      ],
      "source": [
        "#Linear Support Vector Machine(linear-SVM)\n",
        "model=svm.SVC(kernel='linear',C=0.1,gamma=0.1)\n",
        "model.fit(train_X,train_Y)\n",
        "prediction_linear=model.predict(test_X)\n",
        "LSVM_Accuracy=metrics.accuracy_score(prediction_linear,test_Y)\n",
        "LSVM_Accuracy"
      ]
    },
    {
      "cell_type": "code",
      "execution_count": null,
      "metadata": {
        "colab": {
          "base_uri": "https://localhost:8080/"
        },
        "id": "rLt-e3LLr4GA",
        "outputId": "de1a6066-1a20-4b68-bf81-1faf4693139a"
      },
      "outputs": [
        {
          "output_type": "execute_result",
          "data": {
            "text/plain": [
              "0.8976417461113899"
            ]
          },
          "metadata": {},
          "execution_count": 48
        }
      ],
      "source": [
        "#Decision Tree\n",
        "model = DecisionTreeClassifier()\n",
        "model.fit(train_X,train_Y)\n",
        "prediction_decision=model.predict(test_X)\n",
        "DT_Accuracy=metrics.accuracy_score(prediction_decision,test_Y)\n",
        "DT_Accuracy"
      ]
    },
    {
      "cell_type": "code",
      "execution_count": null,
      "metadata": {
        "colab": {
          "base_uri": "https://localhost:8080/"
        },
        "id": "yxu2bax9sYOh",
        "outputId": "0a259636-b9c7-491e-efe2-65b66bb6f5e0"
      },
      "outputs": [
        {
          "output_type": "execute_result",
          "data": {
            "text/plain": [
              "0.9453085800301053"
            ]
          },
          "metadata": {},
          "execution_count": 49
        }
      ],
      "source": [
        "#K-Nearest Neighbours(KNN)\n",
        "model=KNeighborsClassifier() \n",
        "model.fit(train_X,train_Y)\n",
        "prediction_knn=model.predict(test_X)\n",
        "KNN_Accuracy=metrics.accuracy_score(prediction_knn,test_Y)\n",
        "KNN_Accuracy"
      ]
    },
    {
      "cell_type": "code",
      "execution_count": null,
      "metadata": {
        "colab": {
          "base_uri": "https://localhost:8080/"
        },
        "id": "A7gBsFSYsq2Y",
        "outputId": "b1301948-1782-4552-f33e-1945512d9496"
      },
      "outputs": [
        {
          "output_type": "execute_result",
          "data": {
            "text/plain": [
              "0.8665328650275966"
            ]
          },
          "metadata": {},
          "execution_count": 50
        }
      ],
      "source": [
        "#Gaussian Naive Bayes\n",
        "model=GaussianNB()\n",
        "model.fit(train_X,train_Y)\n",
        "prediction_gnb=model.predict(test_X)\n",
        "GNB_Accuracy=metrics.accuracy_score(prediction_gnb,test_Y)\n",
        "GNB_Accuracy"
      ]
    },
    {
      "cell_type": "code",
      "execution_count": null,
      "metadata": {
        "colab": {
          "base_uri": "https://localhost:8080/"
        },
        "id": "MQZP_da7s7tB",
        "outputId": "4fd908b8-8b20-4f30-ec1e-b571ccb264f8"
      },
      "outputs": [
        {
          "output_type": "execute_result",
          "data": {
            "text/plain": [
              "0.9433015554440541"
            ]
          },
          "metadata": {},
          "execution_count": 51
        }
      ],
      "source": [
        "#Random Forests\n",
        "model=RandomForestClassifier(n_estimators=100)\n",
        "model.fit(train_X,train_Y)\n",
        "prediction_rf=model.predict(test_X)\n",
        "RF_Accuracy=metrics.accuracy_score(prediction_rf,test_Y)\n",
        "RF_Accuracy"
      ]
    },
    {
      "cell_type": "code",
      "execution_count": null,
      "metadata": {
        "colab": {
          "base_uri": "https://localhost:8080/"
        },
        "id": "SijY9yHxrE0j",
        "outputId": "84d36e0d-b0ed-4b5a-df86-e95cddc87380"
      },
      "outputs": [
        {
          "output_type": "execute_result",
          "data": {
            "text/plain": [
              "0.9503261414952333"
            ]
          },
          "metadata": {},
          "execution_count": 52
        }
      ],
      "source": [
        "#Logistic Regression\n",
        "model = LogisticRegression()\n",
        "model.fit(train_X,train_Y)\n",
        "prediction_logistic=model.predict(test_X)\n",
        "LR_Accuracy=metrics.accuracy_score(prediction_logistic,test_Y)\n",
        "LR_Accuracy"
      ]
    },
    {
      "cell_type": "code",
      "execution_count": null,
      "metadata": {
        "colab": {
          "base_uri": "https://localhost:8080/"
        },
        "id": "aySwUrpEtJzv",
        "outputId": "07485561-edeb-4cb0-e5af-8fac70ce8d74"
      },
      "outputs": [
        {
          "output_type": "stream",
          "name": "stdout",
          "text": [
            "[-7.062558583726535, 0.11602656661223659, 1.203766961832806, 0.6493921299256309, 0.2483866156779068, 0.8274456529726304, -0.11057043807613863, -0.0050838273695905855]\n"
          ]
        }
      ],
      "source": [
        "A_data=[RSVM_Accuracy, LSVM_Accuracy, DT_Accuracy, KNN_Accuracy, GNB_Accuracy, RF_Accuracy, LR_Accuracy]\n",
        "z=model.intercept_[0]\n",
        "#print(z)\n",
        "C_data=[z]\n",
        "#print(C_data)\n",
        "\n",
        "for i in model.coef_:\n",
        "  for j in i:\n",
        "    C_data.append(j)\n",
        "\n",
        "print(C_data)\n",
        "\n",
        "#print(model.coef_)\n",
        "\n",
        "\n",
        "#p(x) = 1 / (1 + e^(-z))\n",
        "#z = b0 + b1x1 + b2x2 + ... + bn*xn\n",
        "#p = 1 / (1 + exp(-(b0 + b1x1 + b2x2 + ... + bnxn)))"
      ]
    },
    {
      "cell_type": "code",
      "execution_count": null,
      "metadata": {
        "colab": {
          "base_uri": "https://localhost:8080/",
          "height": 107
        },
        "id": "lOHWsXUcFOXg",
        "outputId": "9e7e4c8c-9833-45f6-98a0-571991687af1"
      },
      "outputs": [
        {
          "output_type": "execute_result",
          "data": {
            "text/plain": [
              "\"\\nnew_data = pd.DataFrame({'gender': 0, 'age_band': 0, 'hypertension': 0, 'heart_disease': 0, 'avg_glucose_level': 0.319202, 'bmi': 0.331288, 'smoking_status': 3},index=[0])\\nimport collections, numpy\\n\\nprediction = model.predict(X)\\nprint(prediction)\\ncounter = collections.Counter(prediction)\\nprint(counter)\\n\""
            ],
            "application/vnd.google.colaboratory.intrinsic+json": {
              "type": "string"
            }
          },
          "metadata": {},
          "execution_count": 54
        }
      ],
      "source": [
        "\"\"\"\n",
        "new_data = pd.DataFrame({'gender': 0, 'age_band': 0, 'hypertension': 0, 'heart_disease': 0, 'avg_glucose_level': 0.319202, 'bmi': 0.331288, 'smoking_status': 3},index=[0])\n",
        "import collections, numpy\n",
        "\n",
        "prediction = model.predict(X)\n",
        "print(prediction)\n",
        "counter = collections.Counter(prediction)\n",
        "print(counter)\n",
        "\"\"\""
      ]
    },
    {
      "cell_type": "code",
      "execution_count": null,
      "metadata": {
        "colab": {
          "base_uri": "https://localhost:8080/"
        },
        "id": "5wTpIXbggtnk",
        "outputId": "f136f6a1-2e9e-4a3d-c0c2-9d3759182c74"
      },
      "outputs": [
        {
          "output_type": "stream",
          "name": "stdout",
          "text": [
            "Looking in indexes: https://pypi.org/simple, https://us-python.pkg.dev/colab-wheels/public/simple/\n",
            "Collecting pyngrok==4.1.1\n",
            "  Downloading pyngrok-4.1.1.tar.gz (18 kB)\n",
            "  Preparing metadata (setup.py) ... \u001b[?25l\u001b[?25hdone\n",
            "Requirement already satisfied: future in /usr/local/lib/python3.8/dist-packages (from pyngrok==4.1.1) (0.16.0)\n",
            "Requirement already satisfied: PyYAML in /usr/local/lib/python3.8/dist-packages (from pyngrok==4.1.1) (6.0)\n",
            "Building wheels for collected packages: pyngrok\n",
            "  Building wheel for pyngrok (setup.py) ... \u001b[?25l\u001b[?25hdone\n",
            "  Created wheel for pyngrok: filename=pyngrok-4.1.1-py3-none-any.whl size=15982 sha256=efe6f8e751e14d2e27758c807a5e2dbf33c60afd2500edf2e3aa8cd015a7c768\n",
            "  Stored in directory: /root/.cache/pip/wheels/5e/0a/51/8cb053ccd84481dd3233eba4cdb608bc7a885fd8ca418c0806\n",
            "Successfully built pyngrok\n",
            "Installing collected packages: pyngrok\n",
            "Successfully installed pyngrok-4.1.1\n",
            "Looking in indexes: https://pypi.org/simple, https://us-python.pkg.dev/colab-wheels/public/simple/\n",
            "Collecting flask-ngrok\n",
            "  Downloading flask_ngrok-0.0.25-py3-none-any.whl (3.1 kB)\n",
            "Requirement already satisfied: requests in /usr/local/lib/python3.8/dist-packages (from flask-ngrok) (2.25.1)\n",
            "Requirement already satisfied: Flask>=0.8 in /usr/local/lib/python3.8/dist-packages (from flask-ngrok) (1.1.4)\n",
            "Requirement already satisfied: click<8.0,>=5.1 in /usr/local/lib/python3.8/dist-packages (from Flask>=0.8->flask-ngrok) (7.1.2)\n",
            "Requirement already satisfied: Jinja2<3.0,>=2.10.1 in /usr/local/lib/python3.8/dist-packages (from Flask>=0.8->flask-ngrok) (2.11.3)\n",
            "Requirement already satisfied: Werkzeug<2.0,>=0.15 in /usr/local/lib/python3.8/dist-packages (from Flask>=0.8->flask-ngrok) (1.0.1)\n",
            "Requirement already satisfied: itsdangerous<2.0,>=0.24 in /usr/local/lib/python3.8/dist-packages (from Flask>=0.8->flask-ngrok) (1.1.0)\n",
            "Requirement already satisfied: chardet<5,>=3.0.2 in /usr/local/lib/python3.8/dist-packages (from requests->flask-ngrok) (4.0.0)\n",
            "Requirement already satisfied: certifi>=2017.4.17 in /usr/local/lib/python3.8/dist-packages (from requests->flask-ngrok) (2022.12.7)\n",
            "Requirement already satisfied: idna<3,>=2.5 in /usr/local/lib/python3.8/dist-packages (from requests->flask-ngrok) (2.10)\n",
            "Requirement already satisfied: urllib3<1.27,>=1.21.1 in /usr/local/lib/python3.8/dist-packages (from requests->flask-ngrok) (1.24.3)\n",
            "Requirement already satisfied: MarkupSafe>=0.23 in /usr/local/lib/python3.8/dist-packages (from Jinja2<3.0,>=2.10.1->Flask>=0.8->flask-ngrok) (2.0.1)\n",
            "Installing collected packages: flask-ngrok\n",
            "Successfully installed flask-ngrok-0.0.25\n",
            "Cloning into 'templates'...\n",
            "remote: Enumerating objects: 70, done.\u001b[K\n",
            "remote: Counting objects: 100% (70/70), done.\u001b[K\n",
            "remote: Compressing objects: 100% (66/66), done.\u001b[K\n",
            "remote: Total 70 (delta 29), reused 3 (delta 1), pack-reused 0\u001b[K\n",
            "Unpacking objects: 100% (70/70), 128.08 KiB | 2.72 MiB/s, done.\n",
            "Authtoken saved to configuration file: /root/.ngrok2/ngrok.yml\n",
            "Looking in indexes: https://pypi.org/simple, https://us-python.pkg.dev/colab-wheels/public/simple/\n",
            "Collecting flask_bootstrap\n",
            "  Downloading Flask-Bootstrap-3.3.7.1.tar.gz (456 kB)\n",
            "\u001b[2K     \u001b[90m━━━━━━━━━━━━━━━━━━━━━━━━━━━━━━━━━━━━━━\u001b[0m \u001b[32m456.4/456.4 KB\u001b[0m \u001b[31m13.8 MB/s\u001b[0m eta \u001b[36m0:00:00\u001b[0m\n",
            "\u001b[?25h  Preparing metadata (setup.py) ... \u001b[?25l\u001b[?25hdone\n",
            "Requirement already satisfied: Flask>=0.8 in /usr/local/lib/python3.8/dist-packages (from flask_bootstrap) (1.1.4)\n",
            "Collecting dominate\n",
            "  Downloading dominate-2.7.0-py2.py3-none-any.whl (29 kB)\n",
            "Collecting visitor\n",
            "  Downloading visitor-0.1.3.tar.gz (3.3 kB)\n",
            "  Preparing metadata (setup.py) ... \u001b[?25l\u001b[?25hdone\n",
            "Requirement already satisfied: click<8.0,>=5.1 in /usr/local/lib/python3.8/dist-packages (from Flask>=0.8->flask_bootstrap) (7.1.2)\n",
            "Requirement already satisfied: Jinja2<3.0,>=2.10.1 in /usr/local/lib/python3.8/dist-packages (from Flask>=0.8->flask_bootstrap) (2.11.3)\n",
            "Requirement already satisfied: Werkzeug<2.0,>=0.15 in /usr/local/lib/python3.8/dist-packages (from Flask>=0.8->flask_bootstrap) (1.0.1)\n",
            "Requirement already satisfied: itsdangerous<2.0,>=0.24 in /usr/local/lib/python3.8/dist-packages (from Flask>=0.8->flask_bootstrap) (1.1.0)\n",
            "Requirement already satisfied: MarkupSafe>=0.23 in /usr/local/lib/python3.8/dist-packages (from Jinja2<3.0,>=2.10.1->Flask>=0.8->flask_bootstrap) (2.0.1)\n",
            "Building wheels for collected packages: flask_bootstrap, visitor\n",
            "  Building wheel for flask_bootstrap (setup.py) ... \u001b[?25l\u001b[?25hdone\n",
            "  Created wheel for flask_bootstrap: filename=Flask_Bootstrap-3.3.7.1-py3-none-any.whl size=460123 sha256=75e5c4e2998b67c92b43d87055910333657a04c6802764dda746171b7506b24c\n",
            "  Stored in directory: /root/.cache/pip/wheels/f2/a3/85/fe8b65a65a447c9906e3b7edb7d9e6c74dfa9c8425c3dd3007\n",
            "  Building wheel for visitor (setup.py) ... \u001b[?25l\u001b[?25hdone\n",
            "  Created wheel for visitor: filename=visitor-0.1.3-py3-none-any.whl size=3943 sha256=5e2e1a6d6d3babf614fe7860c47e032ca7ade489b219d6c4bfdb4e7a388cff45\n",
            "  Stored in directory: /root/.cache/pip/wheels/d3/40/52/5dae7760434a82caf8b8f88323029188b2d4ea3ac1235e550a\n",
            "Successfully built flask_bootstrap visitor\n",
            "Installing collected packages: visitor, dominate, flask_bootstrap\n",
            "Successfully installed dominate-2.7.0 flask_bootstrap-3.3.7.1 visitor-0.1.3\n"
          ]
        }
      ],
      "source": [
        "!pip install pyngrok==4.1.1\n",
        "!pip install flask-ngrok\n",
        "!git clone https://github.com/Kumar-Ritu-Raj/templates.git\n",
        "!ngrok authtoken 2LDmtALOeDN5RG0OevVVbsloHGE_G1UoFHr46jC81ot1dGjF\n",
        "!pip install flask_bootstrap"
      ]
    },
    {
      "cell_type": "code",
      "execution_count": null,
      "metadata": {
        "id": "ARlDD80No8AS"
      },
      "outputs": [],
      "source": [
        "from flask import Flask, render_template\n",
        "from flask_bootstrap import Bootstrap \n",
        "from flask_ngrok import run_with_ngrok\n",
        "\n",
        "C_data=[round(num, 3) for num in C_data]\n",
        "A_data=[round(num, 3) for num in A_data]\n",
        "T_data=[round(num, 2) for num in T_data]\n",
        "M_data=[round(num, 3) for num in M_data]\n",
        "\n"
      ]
    },
    {
      "cell_type": "code",
      "execution_count": null,
      "metadata": {
        "colab": {
          "base_uri": "https://localhost:8080/",
          "height": 205
        },
        "id": "nsdyUiEefT62",
        "outputId": "08aa4763-2b1f-4fbe-9cc9-81288e683a92"
      },
      "outputs": [
        {
          "output_type": "error",
          "ename": "TypeError",
          "evalue": "ignored",
          "traceback": [
            "\u001b[0;31m---------------------------------------------------------------------------\u001b[0m",
            "\u001b[0;31mTypeError\u001b[0m                                 Traceback (most recent call last)",
            "\u001b[0;32m<ipython-input-61-9a0a837fcb95>\u001b[0m in \u001b[0;36m<module>\u001b[0;34m\u001b[0m\n\u001b[1;32m     13\u001b[0m \u001b[0;34m\u001b[0m\u001b[0m\n\u001b[1;32m     14\u001b[0m \u001b[0;34m\u001b[0m\u001b[0m\n\u001b[0;32m---> 15\u001b[0;31m \u001b[0mapp\u001b[0m\u001b[0;34m.\u001b[0m\u001b[0mrun\u001b[0m\u001b[0;34m(\u001b[0m\u001b[0mdebug\u001b[0m\u001b[0;34m=\u001b[0m\u001b[0;32mTrue\u001b[0m\u001b[0;34m)\u001b[0m\u001b[0;34m\u001b[0m\u001b[0;34m\u001b[0m\u001b[0m\n\u001b[0m",
            "\u001b[0;31mTypeError\u001b[0m: new_run() got an unexpected keyword argument 'debug'"
          ]
        }
      ],
      "source": [
        "app= Flask(__name__)\n",
        "app_static_folder= '/content/templates'\n",
        "bootstrap=Bootstrap(app)\n",
        "run_with_ngrok(app)\n",
        "\n",
        "@app.route(\"/\")\n",
        "def home():\n",
        "  return render_template('main.html',M_data=M_data,T_data=T_data,A_data=A_data,C_data=C_data)\n",
        "\n",
        "@app.route(\"/main_css\")\n",
        "def main_css():\n",
        "  return render_template('main_css',M_data=M_data,T_data=T_data,A_data=A_data,C_data=C_data)\n",
        "\n",
        "\n",
        "app.run()"
      ]
    }
  ],
  "metadata": {
    "colab": {
      "provenance": [],
      "include_colab_link": true
    },
    "kernelspec": {
      "display_name": "Python 3",
      "name": "python3"
    },
    "language_info": {
      "name": "python"
    }
  },
  "nbformat": 4,
  "nbformat_minor": 0
}