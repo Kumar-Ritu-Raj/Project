{
  "cells": [
    {
      "cell_type": "markdown",
      "metadata": {
        "id": "view-in-github",
        "colab_type": "text"
      },
      "source": [
        "<a href=\"https://colab.research.google.com/github/Kumar-Ritu-Raj/Project/blob/main/Project.ipynb\" target=\"_parent\"><img src=\"https://colab.research.google.com/assets/colab-badge.svg\" alt=\"Open In Colab\"/></a>"
      ]
    },
    {
      "cell_type": "code",
      "execution_count": 92,
      "metadata": {
        "colab": {
          "base_uri": "https://localhost:8080/"
        },
        "id": "CaWW0gfdinzb",
        "outputId": "0179baa1-c2ce-4e83-c4d7-92d1fa54bb26"
      },
      "outputs": [
        {
          "output_type": "stream",
          "name": "stdout",
          "text": [
            "Looking in indexes: https://pypi.org/simple, https://us-python.pkg.dev/colab-wheels/public/simple/\n",
            "Requirement already satisfied: pyngrok==4.1.1 in /usr/local/lib/python3.8/dist-packages (4.1.1)\n",
            "Requirement already satisfied: PyYAML in /usr/local/lib/python3.8/dist-packages (from pyngrok==4.1.1) (6.0)\n",
            "Requirement already satisfied: future in /usr/local/lib/python3.8/dist-packages (from pyngrok==4.1.1) (0.16.0)\n"
          ]
        }
      ],
      "source": [
        "!pip install pyngrok==4.1.1"
      ]
    },
    {
      "cell_type": "code",
      "execution_count": 93,
      "metadata": {
        "colab": {
          "base_uri": "https://localhost:8080/"
        },
        "id": "5wTpIXbggtnk",
        "outputId": "e04db393-532a-4126-b2ed-3c30993d3902"
      },
      "outputs": [
        {
          "output_type": "stream",
          "name": "stdout",
          "text": [
            "Looking in indexes: https://pypi.org/simple, https://us-python.pkg.dev/colab-wheels/public/simple/\n",
            "Requirement already satisfied: flask-ngrok in /usr/local/lib/python3.8/dist-packages (0.0.25)\n",
            "Requirement already satisfied: requests in /usr/local/lib/python3.8/dist-packages (from flask-ngrok) (2.25.1)\n",
            "Requirement already satisfied: Flask>=0.8 in /usr/local/lib/python3.8/dist-packages (from flask-ngrok) (1.1.4)\n",
            "Requirement already satisfied: itsdangerous<2.0,>=0.24 in /usr/local/lib/python3.8/dist-packages (from Flask>=0.8->flask-ngrok) (1.1.0)\n",
            "Requirement already satisfied: Werkzeug<2.0,>=0.15 in /usr/local/lib/python3.8/dist-packages (from Flask>=0.8->flask-ngrok) (1.0.1)\n",
            "Requirement already satisfied: click<8.0,>=5.1 in /usr/local/lib/python3.8/dist-packages (from Flask>=0.8->flask-ngrok) (7.1.2)\n",
            "Requirement already satisfied: Jinja2<3.0,>=2.10.1 in /usr/local/lib/python3.8/dist-packages (from Flask>=0.8->flask-ngrok) (2.11.3)\n",
            "Requirement already satisfied: urllib3<1.27,>=1.21.1 in /usr/local/lib/python3.8/dist-packages (from requests->flask-ngrok) (1.24.3)\n",
            "Requirement already satisfied: idna<3,>=2.5 in /usr/local/lib/python3.8/dist-packages (from requests->flask-ngrok) (2.10)\n",
            "Requirement already satisfied: chardet<5,>=3.0.2 in /usr/local/lib/python3.8/dist-packages (from requests->flask-ngrok) (4.0.0)\n",
            "Requirement already satisfied: certifi>=2017.4.17 in /usr/local/lib/python3.8/dist-packages (from requests->flask-ngrok) (2022.12.7)\n",
            "Requirement already satisfied: MarkupSafe>=0.23 in /usr/local/lib/python3.8/dist-packages (from Jinja2<3.0,>=2.10.1->Flask>=0.8->flask-ngrok) (2.0.1)\n"
          ]
        }
      ],
      "source": [
        "!pip install flask-ngrok"
      ]
    },
    {
      "cell_type": "code",
      "execution_count": 94,
      "metadata": {
        "id": "nk7s26n7ha9G"
      },
      "outputs": [],
      "source": [
        "#!pip install flask-bootstrap"
      ]
    },
    {
      "cell_type": "code",
      "execution_count": 95,
      "metadata": {
        "colab": {
          "base_uri": "https://localhost:8080/"
        },
        "id": "j3YpOnaue6KU",
        "outputId": "7c744c03-f5d9-4bf4-b735-2d56a52867e2"
      },
      "outputs": [
        {
          "output_type": "stream",
          "name": "stdout",
          "text": [
            "NAME:\n",
            "   ngrok - tunnel local ports to public URLs and inspect traffic\n",
            "\n",
            "DESCRIPTION:\n",
            "    ngrok exposes local networked services behinds NATs and firewalls to the\n",
            "    public internet over a secure tunnel. Share local websites, build/test\n",
            "    webhook consumers and self-host personal services.\n",
            "    Detailed help for each command is available with 'ngrok help <command>'.\n",
            "    Open http://localhost:4040 for ngrok's web interface to inspect traffic.\n",
            "\n",
            "EXAMPLES:\n",
            "    ngrok http 80                    # secure public URL for port 80 web server\n",
            "    ngrok http -subdomain=baz 8080   # port 8080 available at baz.ngrok.io\n",
            "    ngrok http foo.dev:80            # tunnel to host:port instead of localhost\n",
            "    ngrok http https://localhost     # expose a local https server\n",
            "    ngrok tcp 22                     # tunnel arbitrary TCP traffic to port 22\n",
            "    ngrok tls -hostname=foo.com 443  # TLS traffic for foo.com to port 443\n",
            "    ngrok start foo bar baz          # start tunnels from the configuration file\n",
            "\n",
            "VERSION:\n",
            "   2.3.41\n",
            "\n",
            "AUTHOR:\n",
            "  inconshreveable - <alan@ngrok.com>\n",
            "\n",
            "COMMANDS:\n",
            "   authtoken\tsave authtoken to configuration file\n",
            "   credits\tprints author and licensing information\n",
            "   http\t\tstart an HTTP tunnel\n",
            "   start\tstart tunnels by name from the configuration file\n",
            "   tcp\t\tstart a TCP tunnel\n",
            "   tls\t\tstart a TLS tunnel\n",
            "   update\tupdate ngrok to the latest version\n",
            "   version\tprint the version string\n",
            "   help\t\tShows a list of commands or help for one command\n",
            "\n",
            "ERROR:  Unrecognized command: config\n"
          ]
        }
      ],
      "source": [
        "#!ngrok config add-authtoken 2LDmtALOeDN5RG0OevVVbsloHGE_G1UoFHr46jC81ot1dGjF"
      ]
    },
    {
      "cell_type": "code",
      "execution_count": 96,
      "metadata": {
        "colab": {
          "base_uri": "https://localhost:8080/"
        },
        "id": "Mnn08a3shjs2",
        "outputId": "0f74603a-0b34-497e-a06a-8d037a46d41e"
      },
      "outputs": [
        {
          "output_type": "stream",
          "name": "stdout",
          "text": [
            "fatal: destination path 'templates' already exists and is not an empty directory.\n"
          ]
        }
      ],
      "source": [
        "!git clone https://github.com/Kumar-Ritu-Raj/templates.git"
      ]
    },
    {
      "cell_type": "code",
      "execution_count": 97,
      "metadata": {
        "colab": {
          "base_uri": "https://localhost:8080/"
        },
        "id": "_mtpSqoUxMVV",
        "outputId": "db225bf1-88b9-4e69-c0e2-f4cbe2518587"
      },
      "outputs": [
        {
          "output_type": "stream",
          "name": "stdout",
          "text": [
            "Authtoken saved to configuration file: /root/.ngrok2/ngrok.yml\n"
          ]
        }
      ],
      "source": [
        "!ngrok authtoken 2LDmtALOeDN5RG0OevVVbsloHGE_G1UoFHr46jC81ot1dGjF"
      ]
    },
    {
      "cell_type": "code",
      "execution_count": 98,
      "metadata": {
        "colab": {
          "base_uri": "https://localhost:8080/"
        },
        "id": "EjScdXI1d1SW",
        "outputId": "d99a65a5-cf41-4d8f-b07c-20f58b842794"
      },
      "outputs": [
        {
          "output_type": "stream",
          "name": "stdout",
          "text": [
            "Looking in indexes: https://pypi.org/simple, https://us-python.pkg.dev/colab-wheels/public/simple/\n",
            "Requirement already satisfied: flask_bootstrap in /usr/local/lib/python3.8/dist-packages (3.3.7.1)\n",
            "Requirement already satisfied: Flask>=0.8 in /usr/local/lib/python3.8/dist-packages (from flask_bootstrap) (1.1.4)\n",
            "Requirement already satisfied: visitor in /usr/local/lib/python3.8/dist-packages (from flask_bootstrap) (0.1.3)\n",
            "Requirement already satisfied: dominate in /usr/local/lib/python3.8/dist-packages (from flask_bootstrap) (2.7.0)\n",
            "Requirement already satisfied: click<8.0,>=5.1 in /usr/local/lib/python3.8/dist-packages (from Flask>=0.8->flask_bootstrap) (7.1.2)\n",
            "Requirement already satisfied: Werkzeug<2.0,>=0.15 in /usr/local/lib/python3.8/dist-packages (from Flask>=0.8->flask_bootstrap) (1.0.1)\n",
            "Requirement already satisfied: Jinja2<3.0,>=2.10.1 in /usr/local/lib/python3.8/dist-packages (from Flask>=0.8->flask_bootstrap) (2.11.3)\n",
            "Requirement already satisfied: itsdangerous<2.0,>=0.24 in /usr/local/lib/python3.8/dist-packages (from Flask>=0.8->flask_bootstrap) (1.1.0)\n",
            "Requirement already satisfied: MarkupSafe>=0.23 in /usr/local/lib/python3.8/dist-packages (from Jinja2<3.0,>=2.10.1->Flask>=0.8->flask_bootstrap) (2.0.1)\n"
          ]
        }
      ],
      "source": [
        "!pip install flask_bootstrap"
      ]
    },
    {
      "cell_type": "code",
      "execution_count": 99,
      "metadata": {
        "id": "3uKF_KPSE-T8"
      },
      "outputs": [],
      "source": [
        "from flask import Flask, render_template\n",
        "from flask_bootstrap import Bootstrap \n",
        "from flask_ngrok import run_with_ngrok"
      ]
    },
    {
      "cell_type": "code",
      "execution_count": 136,
      "metadata": {
        "colab": {
          "base_uri": "https://localhost:8080/"
        },
        "id": "Tq3dCYVKtgdo",
        "outputId": "0b2b86f4-88db-40f1-ee1e-273a41c8757a"
      },
      "outputs": [
        {
          "output_type": "stream",
          "name": "stdout",
          "text": [
            " * Serving Flask app \"__main__\" (lazy loading)\n",
            " * Environment: production\n",
            "\u001b[31m   WARNING: This is a development server. Do not use it in a production deployment.\u001b[0m\n",
            "\u001b[2m   Use a production WSGI server instead.\u001b[0m\n",
            " * Debug mode: off\n"
          ]
        },
        {
          "output_type": "stream",
          "name": "stderr",
          "text": [
            "INFO:werkzeug: * Running on http://127.0.0.1:5000/ (Press CTRL+C to quit)\n"
          ]
        },
        {
          "output_type": "stream",
          "name": "stdout",
          "text": [
            " * Running on http://7edc-34-85-229-77.ngrok.io\n",
            " * Traffic stats available on http://127.0.0.1:4040\n"
          ]
        },
        {
          "output_type": "stream",
          "name": "stderr",
          "text": [
            "INFO:werkzeug:127.0.0.1 - - [20/Feb/2023 18:37:24] \"\u001b[37mGET / HTTP/1.1\u001b[0m\" 200 -\n"
          ]
        }
      ],
      "source": [
        "app= Flask(__name__)\n",
        "app_static_folder= '/content/templates'\n",
        "bootstrap=Bootstrap(app)\n",
        "run_with_ngrok(app)\n",
        "\n",
        "\n",
        "\n",
        "@app.route(\"/\")\n",
        "def home():\n",
        "  return render_template('main.html')\n",
        "app.run()"
      ]
    },
    {
      "cell_type": "code",
      "execution_count": 101,
      "metadata": {
        "id": "dRJ9DSadPI9C",
        "colab": {
          "base_uri": "https://localhost:8080/",
          "height": 160
        },
        "outputId": "f9e28c11-2aea-4a46-e470-386643ebe008"
      },
      "outputs": [
        {
          "output_type": "execute_result",
          "data": {
            "text/plain": [
              "'\\n1) gender: \"Male\", \"Female\" or \"Other\"\\n2) age: age of the patient\\n3) hypertension: 0 if the patient doesn\\'t have hypertension, 1 if the patient has hypertension\\n4) heart disease: 0 if the patient doesn\\'t have any heart diseases, 1 if the patient has a heart disease 5) ever-married: \"No\" or \"Yes\"\\n6) worktype: \"children\", \"Govtjov\", \"Neverworked\", \"Private\" or \"Self-employed\" 7) Residencetype: \"Rural\" or \"Urban\"\\n8) avgglucoselevel: average glucose level in blood\\n9) bmi: body mass index\\n10) smoking_status: \"formerly smoked\", \"never smoked\", \"smokes\" or \"Unknown\"*\\n11) stroke: 1 if the patient had a stroke or 0 if not\\n\\n*Note: \"Unknown\" in smoking_status means that the information is unavailable for this patient\\n'"
            ],
            "application/vnd.google.colaboratory.intrinsic+json": {
              "type": "string"
            }
          },
          "metadata": {},
          "execution_count": 101
        }
      ],
      "source": [
        "#Project Brain Stroke Prediction :-\n",
        "#https://www.kaggle.com/code/emreiekyurt/brain-stroke-prediction/notebook\n",
        "\"\"\"\n",
        "1) gender: \"Male\", \"Female\" or \"Other\"\n",
        "2) age: age of the patient\n",
        "3) hypertension: 0 if the patient doesn't have hypertension, 1 if the patient has hypertension\n",
        "4) heart disease: 0 if the patient doesn't have any heart diseases, 1 if the patient has a heart disease 5) ever-married: \"No\" or \"Yes\"\n",
        "6) worktype: \"children\", \"Govtjov\", \"Neverworked\", \"Private\" or \"Self-employed\" 7) Residencetype: \"Rural\" or \"Urban\"\n",
        "8) avgglucoselevel: average glucose level in blood\n",
        "9) bmi: body mass index\n",
        "10) smoking_status: \"formerly smoked\", \"never smoked\", \"smokes\" or \"Unknown\"*\n",
        "11) stroke: 1 if the patient had a stroke or 0 if not\n",
        "\n",
        "*Note: \"Unknown\" in smoking_status means that the information is unavailable for this patient\n",
        "\"\"\""
      ]
    },
    {
      "cell_type": "markdown",
      "source": [
        "# New section\n"
      ],
      "metadata": {
        "id": "iRKRMIYkI9iG"
      }
    },
    {
      "cell_type": "code",
      "source": [
        "import numpy as np \n",
        "import pandas as pd\n",
        "import matplotlib.pyplot as plt\n",
        "import seaborn as sns\n",
        "import warnings\n",
        "warnings.filterwarnings('ignore')\n",
        "#%matplotlib inline\n",
        "#plt.style.use('fivethirtyeight')"
      ],
      "metadata": {
        "id": "W4exsdstJ7ar"
      },
      "execution_count": 102,
      "outputs": []
    },
    {
      "cell_type": "code",
      "execution_count": 103,
      "metadata": {
        "id": "mI-XvS0nPKN8"
      },
      "outputs": [],
      "source": [
        "Brain_stroke_data=pd.read_csv('https://raw.githubusercontent.com/Kumar-Ritu-Raj/Send/main/brain_stroke.csv')"
      ]
    },
    {
      "cell_type": "code",
      "execution_count": 104,
      "metadata": {
        "id": "zOHYM-H2PQO4",
        "colab": {
          "base_uri": "https://localhost:8080/"
        },
        "outputId": "2b65faee-9a1e-4b6f-e777-b64fd8c17159"
      },
      "outputs": [
        {
          "output_type": "stream",
          "name": "stdout",
          "text": [
            "   gender   age  hypertension  heart_disease ever_married      work_type  \\\n",
            "0    Male  67.0             0              1          Yes        Private   \n",
            "1    Male  80.0             0              1          Yes        Private   \n",
            "2  Female  49.0             0              0          Yes        Private   \n",
            "3  Female  79.0             1              0          Yes  Self-employed   \n",
            "4    Male  81.0             0              0          Yes        Private   \n",
            "5    Male  74.0             1              1          Yes        Private   \n",
            "6  Female  69.0             0              0           No        Private   \n",
            "7  Female  78.0             0              0          Yes        Private   \n",
            "8  Female  81.0             1              0          Yes        Private   \n",
            "9  Female  61.0             0              1          Yes       Govt_job   \n",
            "\n",
            "  Residence_type  avg_glucose_level   bmi   smoking_status  stroke  \n",
            "0          Urban             228.69  36.6  formerly smoked       1  \n",
            "1          Rural             105.92  32.5     never smoked       1  \n",
            "2          Urban             171.23  34.4           smokes       1  \n",
            "3          Rural             174.12  24.0     never smoked       1  \n",
            "4          Urban             186.21  29.0  formerly smoked       1  \n",
            "5          Rural              70.09  27.4     never smoked       1  \n",
            "6          Urban              94.39  22.8     never smoked       1  \n",
            "7          Urban              58.57  24.2          Unknown       1  \n",
            "8          Rural              80.43  29.7     never smoked       1  \n",
            "9          Rural             120.46  36.8           smokes       1  \n"
          ]
        }
      ],
      "source": [
        "print(Brain_stroke_data.head(10))"
      ]
    },
    {
      "cell_type": "markdown",
      "source": [
        "**PRE-PROCESSING**"
      ],
      "metadata": {
        "id": "9l8tI8wAD-4w"
      }
    },
    {
      "cell_type": "code",
      "source": [
        "Brain_stroke_data.info()"
      ],
      "metadata": {
        "id": "J1D62ekRCTkL",
        "colab": {
          "base_uri": "https://localhost:8080/"
        },
        "outputId": "ed2d937d-6190-4675-b44a-2f02d92c5cbb"
      },
      "execution_count": 105,
      "outputs": [
        {
          "output_type": "stream",
          "name": "stdout",
          "text": [
            "<class 'pandas.core.frame.DataFrame'>\n",
            "RangeIndex: 4981 entries, 0 to 4980\n",
            "Data columns (total 11 columns):\n",
            " #   Column             Non-Null Count  Dtype  \n",
            "---  ------             --------------  -----  \n",
            " 0   gender             4981 non-null   object \n",
            " 1   age                4981 non-null   float64\n",
            " 2   hypertension       4981 non-null   int64  \n",
            " 3   heart_disease      4981 non-null   int64  \n",
            " 4   ever_married       4981 non-null   object \n",
            " 5   work_type          4981 non-null   object \n",
            " 6   Residence_type     4981 non-null   object \n",
            " 7   avg_glucose_level  4981 non-null   float64\n",
            " 8   bmi                4981 non-null   float64\n",
            " 9   smoking_status     4981 non-null   object \n",
            " 10  stroke             4981 non-null   int64  \n",
            "dtypes: float64(3), int64(3), object(5)\n",
            "memory usage: 428.2+ KB\n"
          ]
        }
      ]
    },
    {
      "cell_type": "code",
      "source": [
        "Brain_stroke_data.isnull().sum()\n",
        "# gender age hypertension heart_disease avg_glucose_level bmi smoking_status stroke\n",
        "# age_band years summer...."
      ],
      "metadata": {
        "id": "eWpRgb6PL6gw",
        "colab": {
          "base_uri": "https://localhost:8080/"
        },
        "outputId": "a2559ceb-5432-4efd-b45c-27cd484be3e8"
      },
      "execution_count": 106,
      "outputs": [
        {
          "output_type": "execute_result",
          "data": {
            "text/plain": [
              "gender               0\n",
              "age                  0\n",
              "hypertension         0\n",
              "heart_disease        0\n",
              "ever_married         0\n",
              "work_type            0\n",
              "Residence_type       0\n",
              "avg_glucose_level    0\n",
              "bmi                  0\n",
              "smoking_status       0\n",
              "stroke               0\n",
              "dtype: int64"
            ]
          },
          "metadata": {},
          "execution_count": 106
        }
      ]
    },
    {
      "cell_type": "code",
      "source": [
        "Brain_stroke_data = Brain_stroke_data.drop([\"ever_married\", \"work_type\", \"Residence_type\"], axis =1)"
      ],
      "metadata": {
        "id": "Tp54kuKmMADg"
      },
      "execution_count": 107,
      "outputs": []
    },
    {
      "cell_type": "code",
      "source": [
        "Brain_stroke_data.head(10)"
      ],
      "metadata": {
        "id": "7S19VsWaMt45",
        "colab": {
          "base_uri": "https://localhost:8080/",
          "height": 407
        },
        "outputId": "772e790f-1cde-4874-a21d-3a69d5449489"
      },
      "execution_count": 108,
      "outputs": [
        {
          "output_type": "execute_result",
          "data": {
            "text/plain": [
              "   gender   age  hypertension  heart_disease  avg_glucose_level   bmi  \\\n",
              "0    Male  67.0             0              1             228.69  36.6   \n",
              "1    Male  80.0             0              1             105.92  32.5   \n",
              "2  Female  49.0             0              0             171.23  34.4   \n",
              "3  Female  79.0             1              0             174.12  24.0   \n",
              "4    Male  81.0             0              0             186.21  29.0   \n",
              "5    Male  74.0             1              1              70.09  27.4   \n",
              "6  Female  69.0             0              0              94.39  22.8   \n",
              "7  Female  78.0             0              0              58.57  24.2   \n",
              "8  Female  81.0             1              0              80.43  29.7   \n",
              "9  Female  61.0             0              1             120.46  36.8   \n",
              "\n",
              "    smoking_status  stroke  \n",
              "0  formerly smoked       1  \n",
              "1     never smoked       1  \n",
              "2           smokes       1  \n",
              "3     never smoked       1  \n",
              "4  formerly smoked       1  \n",
              "5     never smoked       1  \n",
              "6     never smoked       1  \n",
              "7          Unknown       1  \n",
              "8     never smoked       1  \n",
              "9           smokes       1  "
            ],
            "text/html": [
              "\n",
              "  <div id=\"df-da6c9743-ea12-4b96-b4ac-ffb288f9e647\">\n",
              "    <div class=\"colab-df-container\">\n",
              "      <div>\n",
              "<style scoped>\n",
              "    .dataframe tbody tr th:only-of-type {\n",
              "        vertical-align: middle;\n",
              "    }\n",
              "\n",
              "    .dataframe tbody tr th {\n",
              "        vertical-align: top;\n",
              "    }\n",
              "\n",
              "    .dataframe thead th {\n",
              "        text-align: right;\n",
              "    }\n",
              "</style>\n",
              "<table border=\"1\" class=\"dataframe\">\n",
              "  <thead>\n",
              "    <tr style=\"text-align: right;\">\n",
              "      <th></th>\n",
              "      <th>gender</th>\n",
              "      <th>age</th>\n",
              "      <th>hypertension</th>\n",
              "      <th>heart_disease</th>\n",
              "      <th>avg_glucose_level</th>\n",
              "      <th>bmi</th>\n",
              "      <th>smoking_status</th>\n",
              "      <th>stroke</th>\n",
              "    </tr>\n",
              "  </thead>\n",
              "  <tbody>\n",
              "    <tr>\n",
              "      <th>0</th>\n",
              "      <td>Male</td>\n",
              "      <td>67.0</td>\n",
              "      <td>0</td>\n",
              "      <td>1</td>\n",
              "      <td>228.69</td>\n",
              "      <td>36.6</td>\n",
              "      <td>formerly smoked</td>\n",
              "      <td>1</td>\n",
              "    </tr>\n",
              "    <tr>\n",
              "      <th>1</th>\n",
              "      <td>Male</td>\n",
              "      <td>80.0</td>\n",
              "      <td>0</td>\n",
              "      <td>1</td>\n",
              "      <td>105.92</td>\n",
              "      <td>32.5</td>\n",
              "      <td>never smoked</td>\n",
              "      <td>1</td>\n",
              "    </tr>\n",
              "    <tr>\n",
              "      <th>2</th>\n",
              "      <td>Female</td>\n",
              "      <td>49.0</td>\n",
              "      <td>0</td>\n",
              "      <td>0</td>\n",
              "      <td>171.23</td>\n",
              "      <td>34.4</td>\n",
              "      <td>smokes</td>\n",
              "      <td>1</td>\n",
              "    </tr>\n",
              "    <tr>\n",
              "      <th>3</th>\n",
              "      <td>Female</td>\n",
              "      <td>79.0</td>\n",
              "      <td>1</td>\n",
              "      <td>0</td>\n",
              "      <td>174.12</td>\n",
              "      <td>24.0</td>\n",
              "      <td>never smoked</td>\n",
              "      <td>1</td>\n",
              "    </tr>\n",
              "    <tr>\n",
              "      <th>4</th>\n",
              "      <td>Male</td>\n",
              "      <td>81.0</td>\n",
              "      <td>0</td>\n",
              "      <td>0</td>\n",
              "      <td>186.21</td>\n",
              "      <td>29.0</td>\n",
              "      <td>formerly smoked</td>\n",
              "      <td>1</td>\n",
              "    </tr>\n",
              "    <tr>\n",
              "      <th>5</th>\n",
              "      <td>Male</td>\n",
              "      <td>74.0</td>\n",
              "      <td>1</td>\n",
              "      <td>1</td>\n",
              "      <td>70.09</td>\n",
              "      <td>27.4</td>\n",
              "      <td>never smoked</td>\n",
              "      <td>1</td>\n",
              "    </tr>\n",
              "    <tr>\n",
              "      <th>6</th>\n",
              "      <td>Female</td>\n",
              "      <td>69.0</td>\n",
              "      <td>0</td>\n",
              "      <td>0</td>\n",
              "      <td>94.39</td>\n",
              "      <td>22.8</td>\n",
              "      <td>never smoked</td>\n",
              "      <td>1</td>\n",
              "    </tr>\n",
              "    <tr>\n",
              "      <th>7</th>\n",
              "      <td>Female</td>\n",
              "      <td>78.0</td>\n",
              "      <td>0</td>\n",
              "      <td>0</td>\n",
              "      <td>58.57</td>\n",
              "      <td>24.2</td>\n",
              "      <td>Unknown</td>\n",
              "      <td>1</td>\n",
              "    </tr>\n",
              "    <tr>\n",
              "      <th>8</th>\n",
              "      <td>Female</td>\n",
              "      <td>81.0</td>\n",
              "      <td>1</td>\n",
              "      <td>0</td>\n",
              "      <td>80.43</td>\n",
              "      <td>29.7</td>\n",
              "      <td>never smoked</td>\n",
              "      <td>1</td>\n",
              "    </tr>\n",
              "    <tr>\n",
              "      <th>9</th>\n",
              "      <td>Female</td>\n",
              "      <td>61.0</td>\n",
              "      <td>0</td>\n",
              "      <td>1</td>\n",
              "      <td>120.46</td>\n",
              "      <td>36.8</td>\n",
              "      <td>smokes</td>\n",
              "      <td>1</td>\n",
              "    </tr>\n",
              "  </tbody>\n",
              "</table>\n",
              "</div>\n",
              "      <button class=\"colab-df-convert\" onclick=\"convertToInteractive('df-da6c9743-ea12-4b96-b4ac-ffb288f9e647')\"\n",
              "              title=\"Convert this dataframe to an interactive table.\"\n",
              "              style=\"display:none;\">\n",
              "        \n",
              "  <svg xmlns=\"http://www.w3.org/2000/svg\" height=\"24px\"viewBox=\"0 0 24 24\"\n",
              "       width=\"24px\">\n",
              "    <path d=\"M0 0h24v24H0V0z\" fill=\"none\"/>\n",
              "    <path d=\"M18.56 5.44l.94 2.06.94-2.06 2.06-.94-2.06-.94-.94-2.06-.94 2.06-2.06.94zm-11 1L8.5 8.5l.94-2.06 2.06-.94-2.06-.94L8.5 2.5l-.94 2.06-2.06.94zm10 10l.94 2.06.94-2.06 2.06-.94-2.06-.94-.94-2.06-.94 2.06-2.06.94z\"/><path d=\"M17.41 7.96l-1.37-1.37c-.4-.4-.92-.59-1.43-.59-.52 0-1.04.2-1.43.59L10.3 9.45l-7.72 7.72c-.78.78-.78 2.05 0 2.83L4 21.41c.39.39.9.59 1.41.59.51 0 1.02-.2 1.41-.59l7.78-7.78 2.81-2.81c.8-.78.8-2.07 0-2.86zM5.41 20L4 18.59l7.72-7.72 1.47 1.35L5.41 20z\"/>\n",
              "  </svg>\n",
              "      </button>\n",
              "      \n",
              "  <style>\n",
              "    .colab-df-container {\n",
              "      display:flex;\n",
              "      flex-wrap:wrap;\n",
              "      gap: 12px;\n",
              "    }\n",
              "\n",
              "    .colab-df-convert {\n",
              "      background-color: #E8F0FE;\n",
              "      border: none;\n",
              "      border-radius: 50%;\n",
              "      cursor: pointer;\n",
              "      display: none;\n",
              "      fill: #1967D2;\n",
              "      height: 32px;\n",
              "      padding: 0 0 0 0;\n",
              "      width: 32px;\n",
              "    }\n",
              "\n",
              "    .colab-df-convert:hover {\n",
              "      background-color: #E2EBFA;\n",
              "      box-shadow: 0px 1px 2px rgba(60, 64, 67, 0.3), 0px 1px 3px 1px rgba(60, 64, 67, 0.15);\n",
              "      fill: #174EA6;\n",
              "    }\n",
              "\n",
              "    [theme=dark] .colab-df-convert {\n",
              "      background-color: #3B4455;\n",
              "      fill: #D2E3FC;\n",
              "    }\n",
              "\n",
              "    [theme=dark] .colab-df-convert:hover {\n",
              "      background-color: #434B5C;\n",
              "      box-shadow: 0px 1px 3px 1px rgba(0, 0, 0, 0.15);\n",
              "      filter: drop-shadow(0px 1px 2px rgba(0, 0, 0, 0.3));\n",
              "      fill: #FFFFFF;\n",
              "    }\n",
              "  </style>\n",
              "\n",
              "      <script>\n",
              "        const buttonEl =\n",
              "          document.querySelector('#df-da6c9743-ea12-4b96-b4ac-ffb288f9e647 button.colab-df-convert');\n",
              "        buttonEl.style.display =\n",
              "          google.colab.kernel.accessAllowed ? 'block' : 'none';\n",
              "\n",
              "        async function convertToInteractive(key) {\n",
              "          const element = document.querySelector('#df-da6c9743-ea12-4b96-b4ac-ffb288f9e647');\n",
              "          const dataTable =\n",
              "            await google.colab.kernel.invokeFunction('convertToInteractive',\n",
              "                                                     [key], {});\n",
              "          if (!dataTable) return;\n",
              "\n",
              "          const docLinkHtml = 'Like what you see? Visit the ' +\n",
              "            '<a target=\"_blank\" href=https://colab.research.google.com/notebooks/data_table.ipynb>data table notebook</a>'\n",
              "            + ' to learn more about interactive tables.';\n",
              "          element.innerHTML = '';\n",
              "          dataTable['output_type'] = 'display_data';\n",
              "          await google.colab.output.renderOutput(dataTable, element);\n",
              "          const docLink = document.createElement('div');\n",
              "          docLink.innerHTML = docLinkHtml;\n",
              "          element.appendChild(docLink);\n",
              "        }\n",
              "      </script>\n",
              "    </div>\n",
              "  </div>\n",
              "  "
            ]
          },
          "metadata": {},
          "execution_count": 108
        }
      ]
    },
    {
      "cell_type": "code",
      "source": [
        "Brain_stroke_data['gender'].value_counts()"
      ],
      "metadata": {
        "colab": {
          "base_uri": "https://localhost:8080/"
        },
        "id": "7_cfUn1qTHMg",
        "outputId": "8127b4a7-f920-4fec-ff39-7bf4618e4ca0"
      },
      "execution_count": 109,
      "outputs": [
        {
          "output_type": "execute_result",
          "data": {
            "text/plain": [
              "Female    2907\n",
              "Male      2074\n",
              "Name: gender, dtype: int64"
            ]
          },
          "metadata": {},
          "execution_count": 109
        }
      ]
    },
    {
      "cell_type": "code",
      "source": [
        "Brain_stroke_data['age'].value_counts()"
      ],
      "metadata": {
        "colab": {
          "base_uri": "https://localhost:8080/"
        },
        "id": "XPpkI9kGTdSA",
        "outputId": "af953ce3-ff0c-4b2e-915b-e99691bab4e2"
      },
      "execution_count": 110,
      "outputs": [
        {
          "output_type": "execute_result",
          "data": {
            "text/plain": [
              "78.00    102\n",
              "57.00     92\n",
              "54.00     85\n",
              "51.00     84\n",
              "79.00     84\n",
              "        ... \n",
              "1.16       3\n",
              "0.48       3\n",
              "0.40       2\n",
              "0.08       2\n",
              "0.16       1\n",
              "Name: age, Length: 104, dtype: int64"
            ]
          },
          "metadata": {},
          "execution_count": 110
        }
      ]
    },
    {
      "cell_type": "code",
      "source": [
        "Brain_stroke_data['hypertension'].value_counts()"
      ],
      "metadata": {
        "colab": {
          "base_uri": "https://localhost:8080/"
        },
        "id": "KEokAan8TmAz",
        "outputId": "6532c3d0-6240-46c6-ffcf-a4ec70604d5c"
      },
      "execution_count": 111,
      "outputs": [
        {
          "output_type": "execute_result",
          "data": {
            "text/plain": [
              "0    4502\n",
              "1     479\n",
              "Name: hypertension, dtype: int64"
            ]
          },
          "metadata": {},
          "execution_count": 111
        }
      ]
    },
    {
      "cell_type": "code",
      "source": [
        "Brain_stroke_data['heart_disease'].value_counts()"
      ],
      "metadata": {
        "colab": {
          "base_uri": "https://localhost:8080/"
        },
        "id": "w4In7KDgTvA_",
        "outputId": "da8afd00-082a-4a87-86c2-8b2b415bd93b"
      },
      "execution_count": 112,
      "outputs": [
        {
          "output_type": "execute_result",
          "data": {
            "text/plain": [
              "0    4706\n",
              "1     275\n",
              "Name: heart_disease, dtype: int64"
            ]
          },
          "metadata": {},
          "execution_count": 112
        }
      ]
    },
    {
      "cell_type": "code",
      "source": [
        "Brain_stroke_data['avg_glucose_level'].value_counts()"
      ],
      "metadata": {
        "colab": {
          "base_uri": "https://localhost:8080/"
        },
        "id": "CB5wRsJFT1Rv",
        "outputId": "f50aa918-2756-4a35-f9fe-281bcc62e03d"
      },
      "execution_count": 113,
      "outputs": [
        {
          "output_type": "execute_result",
          "data": {
            "text/plain": [
              "93.88     6\n",
              "73.00     5\n",
              "83.16     5\n",
              "91.85     5\n",
              "72.49     5\n",
              "         ..\n",
              "130.56    1\n",
              "67.78     1\n",
              "116.12    1\n",
              "59.63     1\n",
              "83.94     1\n",
              "Name: avg_glucose_level, Length: 3895, dtype: int64"
            ]
          },
          "metadata": {},
          "execution_count": 113
        }
      ]
    },
    {
      "cell_type": "code",
      "source": [
        "Brain_stroke_data['bmi'].value_counts()"
      ],
      "metadata": {
        "colab": {
          "base_uri": "https://localhost:8080/"
        },
        "id": "ddhK883oT5or",
        "outputId": "4e2ee22d-c242-49e1-e57c-84b243f89236"
      },
      "execution_count": 114,
      "outputs": [
        {
          "output_type": "execute_result",
          "data": {
            "text/plain": [
              "28.7    42\n",
              "28.4    41\n",
              "27.3    38\n",
              "27.7    37\n",
              "26.7    37\n",
              "        ..\n",
              "48.4     1\n",
              "48.2     1\n",
              "46.6     1\n",
              "40.6     1\n",
              "14.9     1\n",
              "Name: bmi, Length: 342, dtype: int64"
            ]
          },
          "metadata": {},
          "execution_count": 114
        }
      ]
    },
    {
      "cell_type": "code",
      "source": [
        "Brain_stroke_data['smoking_status'].value_counts()"
      ],
      "metadata": {
        "colab": {
          "base_uri": "https://localhost:8080/"
        },
        "id": "9yekhHkAT50B",
        "outputId": "05d408e6-7eec-4cef-dc50-b7f4a1e3733e"
      },
      "execution_count": 115,
      "outputs": [
        {
          "output_type": "execute_result",
          "data": {
            "text/plain": [
              "never smoked       1838\n",
              "Unknown            1500\n",
              "formerly smoked     867\n",
              "smokes              776\n",
              "Name: smoking_status, dtype: int64"
            ]
          },
          "metadata": {},
          "execution_count": 115
        }
      ]
    },
    {
      "cell_type": "code",
      "source": [
        "Brain_stroke_data['stroke'].value_counts()"
      ],
      "metadata": {
        "colab": {
          "base_uri": "https://localhost:8080/"
        },
        "id": "EnPpainBT6O5",
        "outputId": "cc75872b-a915-4cca-847d-7a823e648a06"
      },
      "execution_count": 116,
      "outputs": [
        {
          "output_type": "execute_result",
          "data": {
            "text/plain": [
              "0    4733\n",
              "1     248\n",
              "Name: stroke, dtype: int64"
            ]
          },
          "metadata": {},
          "execution_count": 116
        }
      ]
    },
    {
      "cell_type": "markdown",
      "source": [
        "How many people get stroke before"
      ],
      "metadata": {
        "id": "t9Ja5piQdLnM"
      }
    },
    {
      "cell_type": "code",
      "source": [
        "Stroke_pie_lable=['Had Not-Stroke Before','Had Stroke Before']\n",
        "Stroke_pie_exp = [0.4, 0]\n",
        "Stroke_pie_data=Brain_stroke_data['stroke'].value_counts()\n",
        "Pie_plot=plt.pie(Stroke_pie_data, labels = Stroke_pie_lable, autopct='%1.2f%%', explode = Stroke_pie_exp, shadow=True)\n",
        "\n",
        "plt.show()"
      ],
      "metadata": {
        "colab": {
          "base_uri": "https://localhost:8080/",
          "height": 248
        },
        "id": "4n4kumU3dJXT",
        "outputId": "3fd5a2bf-5ad6-4f46-8e51-4bea3a5b9842"
      },
      "execution_count": 117,
      "outputs": [
        {
          "output_type": "display_data",
          "data": {
            "text/plain": [
              "<Figure size 432x288 with 1 Axes>"
            ],
            "image/png": "[encoded data removed]"
          },
          "metadata": {}
        }
      ]
    },
    {
      "cell_type": "code",
      "source": [
        "Brain_stroke_data.groupby(['gender','stroke'])['stroke'].count()"
      ],
      "metadata": {
        "colab": {
          "base_uri": "https://localhost:8080/"
        },
        "id": "EpwUJsP1s1KA",
        "outputId": "f7b0bd7d-a646-4421-b329-2ba4721df5ca"
      },
      "execution_count": 118,
      "outputs": [
        {
          "output_type": "execute_result",
          "data": {
            "text/plain": [
              "gender  stroke\n",
              "Female  0         2767\n",
              "        1          140\n",
              "Male    0         1966\n",
              "        1          108\n",
              "Name: stroke, dtype: int64"
            ]
          },
          "metadata": {},
          "execution_count": 118
        }
      ]
    },
    {
      "cell_type": "code",
      "source": [
        "Gender_stroke=sns.countplot('gender',hue='stroke',data=Brain_stroke_data)\n",
        "Gender_stroke.set_title('Gender \\n Not Had A Stroke VS Had A Stroke')\n",
        "plt.show()"
      ],
      "metadata": {
        "colab": {
          "base_uri": "https://localhost:8080/",
          "height": 310
        },
        "id": "_QoR3UFx5LCF",
        "outputId": "64790574-5a0c-4046-f24c-0dee5de2e209"
      },
      "execution_count": 119,
      "outputs": [
        {
          "output_type": "display_data",
          "data": {
            "text/plain": [
              "<Figure size 432x288 with 1 Axes>"
            ],
            "image/png": "[encoded data removed]"
          },
          "metadata": {
            "needs_background": "light"
          }
        }
      ]
    },
    {
      "cell_type": "code",
      "source": [
        "Brain_stroke_data.groupby(['hypertension','stroke'])['stroke'].count()"
      ],
      "metadata": {
        "colab": {
          "base_uri": "https://localhost:8080/"
        },
        "id": "4jIl9RnG9srp",
        "outputId": "69ec177b-9b58-4de8-cb88-548198bf5bad"
      },
      "execution_count": 120,
      "outputs": [
        {
          "output_type": "execute_result",
          "data": {
            "text/plain": [
              "hypertension  stroke\n",
              "0             0         4320\n",
              "              1          182\n",
              "1             0          413\n",
              "              1           66\n",
              "Name: stroke, dtype: int64"
            ]
          },
          "metadata": {},
          "execution_count": 120
        }
      ]
    },
    {
      "cell_type": "code",
      "source": [
        "#in place of\n",
        "plt.figure(figsize = (15,8))\n",
        "sns.factorplot('hypertension','stroke',hue='gender',data=Brain_stroke_data)\n",
        "plt.show()\n",
        "#Hypertension_stroke=sns.countplot('hypertension',hue='stroke',data=Brain_stroke_data)\n",
        "#Hypertension_stroke.set_title('Hypertension \\n Had A Stroke VS Not Had A Stroke')\n",
        "#plt.show()"
      ],
      "metadata": {
        "colab": {
          "base_uri": "https://localhost:8080/",
          "height": 387
        },
        "id": "5MX65CsR50Gc",
        "outputId": "a6de93e9-1f1f-41e7-daba-3db0b56ee011"
      },
      "execution_count": 121,
      "outputs": [
        {
          "output_type": "display_data",
          "data": {
            "text/plain": [
              "<Figure size 1080x576 with 0 Axes>"
            ]
          },
          "metadata": {}
        },
        {
          "output_type": "display_data",
          "data": {
            "text/plain": [
              "<Figure size 432.125x360 with 1 Axes>"
            ],
            "image/png": "[encoded data removed]"
          },
          "metadata": {
            "needs_background": "light"
          }
        }
      ]
    },
    {
      "cell_type": "code",
      "source": [
        "Brain_stroke_data.groupby(['heart_disease','stroke'])['stroke'].count()"
      ],
      "metadata": {
        "colab": {
          "base_uri": "https://localhost:8080/"
        },
        "id": "fFTQwvqbAfTD",
        "outputId": "b2964f2a-953b-4432-9534-fdd528f75016"
      },
      "execution_count": 122,
      "outputs": [
        {
          "output_type": "execute_result",
          "data": {
            "text/plain": [
              "heart_disease  stroke\n",
              "0              0         4505\n",
              "               1          201\n",
              "1              0          228\n",
              "               1           47\n",
              "Name: stroke, dtype: int64"
            ]
          },
          "metadata": {},
          "execution_count": 122
        }
      ]
    },
    {
      "cell_type": "code",
      "source": [
        "Heart_disease_stroke=sns.countplot('heart_disease',hue='stroke',data=Brain_stroke_data)\n",
        "Heart_disease_stroke.set_title('Heart Disease \\n Not Had A Stroke VS Had A Stroke')\n",
        "plt.show()"
      ],
      "metadata": {
        "colab": {
          "base_uri": "https://localhost:8080/",
          "height": 311
        },
        "id": "i8fN3QlSAfmz",
        "outputId": "369156af-183b-48b6-f520-9797e4f49fc9"
      },
      "execution_count": 123,
      "outputs": [
        {
          "output_type": "display_data",
          "data": {
            "text/plain": [
              "<Figure size 432x288 with 1 Axes>"
            ],
            "image/png": "[encoded data removed]"
          },
          "metadata": {
            "needs_background": "light"
          }
        }
      ]
    },
    {
      "cell_type": "code",
      "source": [
        "cms = sns.color_palette(\"blend:red,green\", as_cmap=True)\n",
        "pd.crosstab(Brain_stroke_data.smoking_status,Brain_stroke_data.stroke,margins=True).style.background_gradient(cmap=cms)"
      ],
      "metadata": {
        "colab": {
          "base_uri": "https://localhost:8080/",
          "height": 238
        },
        "id": "iDGBEPnSBBNA",
        "outputId": "cafce69b-64df-46fb-862c-385f686b1f31"
      },
      "execution_count": 124,
      "outputs": [
        {
          "output_type": "execute_result",
          "data": {
            "text/plain": [
              "<pandas.io.formats.style.Styler at 0x7fb1bc652400>"
            ],
            "text/html": [
              "<style type=\"text/css\">\n",
              "#T_e8b23_row0_col0 {\n",
              "  background-color: #d11700;\n",
              "  color: #f1f1f1;\n",
              "}\n",
              "#T_e8b23_row0_col1 {\n",
              "  background-color: #f90300;\n",
              "  color: #f1f1f1;\n",
              "}\n",
              "#T_e8b23_row0_col2 {\n",
              "  background-color: #d31600;\n",
              "  color: #f1f1f1;\n",
              "}\n",
              "#T_e8b23_row1_col0 {\n",
              "  background-color: #fb0200;\n",
              "  color: #f1f1f1;\n",
              "}\n",
              "#T_e8b23_row1_col1 {\n",
              "  background-color: #dd1100;\n",
              "  color: #f1f1f1;\n",
              "}\n",
              "#T_e8b23_row1_col2 {\n",
              "  background-color: #fa0300;\n",
              "  color: #f1f1f1;\n",
              "}\n",
              "#T_e8b23_row2_col0, #T_e8b23_row2_col2 {\n",
              "  background-color: #bf2000;\n",
              "  color: #f1f1f1;\n",
              "}\n",
              "#T_e8b23_row2_col1 {\n",
              "  background-color: #c51d00;\n",
              "  color: #f1f1f1;\n",
              "}\n",
              "#T_e8b23_row3_col0, #T_e8b23_row3_col1, #T_e8b23_row3_col2 {\n",
              "  background-color: #ff0000;\n",
              "  color: #f1f1f1;\n",
              "}\n",
              "#T_e8b23_row4_col0, #T_e8b23_row4_col1, #T_e8b23_row4_col2 {\n",
              "  background-color: #008000;\n",
              "  color: #f1f1f1;\n",
              "}\n",
              "</style>\n",
              "<table id=\"T_e8b23_\" class=\"dataframe\">\n",
              "  <thead>\n",
              "    <tr>\n",
              "      <th class=\"index_name level0\" >stroke</th>\n",
              "      <th class=\"col_heading level0 col0\" >0</th>\n",
              "      <th class=\"col_heading level0 col1\" >1</th>\n",
              "      <th class=\"col_heading level0 col2\" >All</th>\n",
              "    </tr>\n",
              "    <tr>\n",
              "      <th class=\"index_name level0\" >smoking_status</th>\n",
              "      <th class=\"blank col0\" >&nbsp;</th>\n",
              "      <th class=\"blank col1\" >&nbsp;</th>\n",
              "      <th class=\"blank col2\" >&nbsp;</th>\n",
              "    </tr>\n",
              "  </thead>\n",
              "  <tbody>\n",
              "    <tr>\n",
              "      <th id=\"T_e8b23_level0_row0\" class=\"row_heading level0 row0\" >Unknown</th>\n",
              "      <td id=\"T_e8b23_row0_col0\" class=\"data row0 col0\" >1453</td>\n",
              "      <td id=\"T_e8b23_row0_col1\" class=\"data row0 col1\" >47</td>\n",
              "      <td id=\"T_e8b23_row0_col2\" class=\"data row0 col2\" >1500</td>\n",
              "    </tr>\n",
              "    <tr>\n",
              "      <th id=\"T_e8b23_level0_row1\" class=\"row_heading level0 row1\" >formerly smoked</th>\n",
              "      <td id=\"T_e8b23_row1_col0\" class=\"data row1 col0\" >797</td>\n",
              "      <td id=\"T_e8b23_row1_col1\" class=\"data row1 col1\" >70</td>\n",
              "      <td id=\"T_e8b23_row1_col2\" class=\"data row1 col2\" >867</td>\n",
              "    </tr>\n",
              "    <tr>\n",
              "      <th id=\"T_e8b23_level0_row2\" class=\"row_heading level0 row2\" >never smoked</th>\n",
              "      <td id=\"T_e8b23_row2_col0\" class=\"data row2 col0\" >1749</td>\n",
              "      <td id=\"T_e8b23_row2_col1\" class=\"data row2 col1\" >89</td>\n",
              "      <td id=\"T_e8b23_row2_col2\" class=\"data row2 col2\" >1838</td>\n",
              "    </tr>\n",
              "    <tr>\n",
              "      <th id=\"T_e8b23_level0_row3\" class=\"row_heading level0 row3\" >smokes</th>\n",
              "      <td id=\"T_e8b23_row3_col0\" class=\"data row3 col0\" >734</td>\n",
              "      <td id=\"T_e8b23_row3_col1\" class=\"data row3 col1\" >42</td>\n",
              "      <td id=\"T_e8b23_row3_col2\" class=\"data row3 col2\" >776</td>\n",
              "    </tr>\n",
              "    <tr>\n",
              "      <th id=\"T_e8b23_level0_row4\" class=\"row_heading level0 row4\" >All</th>\n",
              "      <td id=\"T_e8b23_row4_col0\" class=\"data row4 col0\" >4733</td>\n",
              "      <td id=\"T_e8b23_row4_col1\" class=\"data row4 col1\" >248</td>\n",
              "      <td id=\"T_e8b23_row4_col2\" class=\"data row4 col2\" >4981</td>\n",
              "    </tr>\n",
              "  </tbody>\n",
              "</table>\n"
            ]
          },
          "metadata": {},
          "execution_count": 124
        }
      ]
    },
    {
      "cell_type": "code",
      "source": [
        "Smoking_status_stroke=sns.countplot('smoking_status',hue='stroke',data=Brain_stroke_data)\n",
        "Smoking_status_stroke.set_title('Smoking Status \\n Never Had A Stroke VS Had A Stroke')\n",
        "plt.show()"
      ],
      "metadata": {
        "colab": {
          "base_uri": "https://localhost:8080/",
          "height": 311
        },
        "id": "TC6eOX2Cz2VX",
        "outputId": "3c70f525-725b-4170-bd2d-402594cda7bb"
      },
      "execution_count": 125,
      "outputs": [
        {
          "output_type": "display_data",
          "data": {
            "text/plain": [
              "<Figure size 432x288 with 1 Axes>"
            ],
            "image/png": "[encoded data removed]"
          },
          "metadata": {
            "needs_background": "light"
          }
        }
      ]
    },
    {
      "cell_type": "code",
      "source": [
        "cm = sns.color_palette(\"blend:yellow,blue\",as_cmap=True)\n",
        "pd.crosstab([Brain_stroke_data.gender,Brain_stroke_data.stroke],Brain_stroke_data.smoking_status,margins=True).style.background_gradient(cmap=cm)"
      ],
      "metadata": {
        "colab": {
          "base_uri": "https://localhost:8080/",
          "height": 238
        },
        "id": "ilC2k37s1NDu",
        "outputId": "543e1786-0ae3-4eb2-dea4-21d427f984a8"
      },
      "execution_count": 126,
      "outputs": [
        {
          "output_type": "execute_result",
          "data": {
            "text/plain": [
              "<pandas.io.formats.style.Styler at 0x7fb1bc652670>"
            ],
            "text/html": [
              "<style type=\"text/css\">\n",
              "#T_63536_row0_col0 {\n",
              "  background-color: #7c7c83;\n",
              "  color: #f1f1f1;\n",
              "}\n",
              "#T_63536_row0_col1 {\n",
              "  background-color: #868679;\n",
              "  color: #f1f1f1;\n",
              "}\n",
              "#T_63536_row0_col2 {\n",
              "  background-color: #63639c;\n",
              "  color: #f1f1f1;\n",
              "}\n",
              "#T_63536_row0_col3 {\n",
              "  background-color: #777788;\n",
              "  color: #f1f1f1;\n",
              "}\n",
              "#T_63536_row0_col4 {\n",
              "  background-color: #74748b;\n",
              "  color: #f1f1f1;\n",
              "}\n",
              "#T_63536_row1_col0, #T_63536_row1_col1, #T_63536_row1_col3, #T_63536_row3_col0, #T_63536_row3_col1, #T_63536_row3_col2, #T_63536_row3_col4 {\n",
              "  background-color: #ffff00;\n",
              "  color: #000000;\n",
              "}\n",
              "#T_63536_row1_col2 {\n",
              "  background-color: #fbfb04;\n",
              "  color: #000000;\n",
              "}\n",
              "#T_63536_row1_col4, #T_63536_row3_col3 {\n",
              "  background-color: #fefe01;\n",
              "  color: #000000;\n",
              "}\n",
              "#T_63536_row2_col0 {\n",
              "  background-color: #8f8f70;\n",
              "  color: #f1f1f1;\n",
              "}\n",
              "#T_63536_row2_col1 {\n",
              "  background-color: #999966;\n",
              "  color: #f1f1f1;\n",
              "}\n",
              "#T_63536_row2_col2 {\n",
              "  background-color: #acac53;\n",
              "  color: #f1f1f1;\n",
              "}\n",
              "#T_63536_row2_col3 {\n",
              "  background-color: #9c9c63;\n",
              "  color: #f1f1f1;\n",
              "}\n",
              "#T_63536_row2_col4 {\n",
              "  background-color: #9e9e61;\n",
              "  color: #f1f1f1;\n",
              "}\n",
              "#T_63536_row4_col0, #T_63536_row4_col1, #T_63536_row4_col2, #T_63536_row4_col3, #T_63536_row4_col4 {\n",
              "  background-color: #0000ff;\n",
              "  color: #f1f1f1;\n",
              "}\n",
              "</style>\n",
              "<table id=\"T_63536_\" class=\"dataframe\">\n",
              "  <thead>\n",
              "    <tr>\n",
              "      <th class=\"blank\" >&nbsp;</th>\n",
              "      <th class=\"index_name level0\" >smoking_status</th>\n",
              "      <th class=\"col_heading level0 col0\" >Unknown</th>\n",
              "      <th class=\"col_heading level0 col1\" >formerly smoked</th>\n",
              "      <th class=\"col_heading level0 col2\" >never smoked</th>\n",
              "      <th class=\"col_heading level0 col3\" >smokes</th>\n",
              "      <th class=\"col_heading level0 col4\" >All</th>\n",
              "    </tr>\n",
              "    <tr>\n",
              "      <th class=\"index_name level0\" >gender</th>\n",
              "      <th class=\"index_name level1\" >stroke</th>\n",
              "      <th class=\"blank col0\" >&nbsp;</th>\n",
              "      <th class=\"blank col1\" >&nbsp;</th>\n",
              "      <th class=\"blank col2\" >&nbsp;</th>\n",
              "      <th class=\"blank col3\" >&nbsp;</th>\n",
              "      <th class=\"blank col4\" >&nbsp;</th>\n",
              "    </tr>\n",
              "  </thead>\n",
              "  <tbody>\n",
              "    <tr>\n",
              "      <th id=\"T_63536_level0_row0\" class=\"row_heading level0 row0\" rowspan=\"2\">Female</th>\n",
              "      <th id=\"T_63536_level1_row0\" class=\"row_heading level1 row0\" >0</th>\n",
              "      <td id=\"T_63536_row0_col0\" class=\"data row0 col0\" >783</td>\n",
              "      <td id=\"T_63536_row0_col1\" class=\"data row0 col1\" >430</td>\n",
              "      <td id=\"T_63536_row0_col2\" class=\"data row0 col2\" >1132</td>\n",
              "      <td id=\"T_63536_row0_col3\" class=\"data row0 col3\" >422</td>\n",
              "      <td id=\"T_63536_row0_col4\" class=\"data row0 col4\" >2767</td>\n",
              "    </tr>\n",
              "    <tr>\n",
              "      <th id=\"T_63536_level1_row1\" class=\"row_heading level1 row1\" >1</th>\n",
              "      <td id=\"T_63536_row1_col0\" class=\"data row1 col0\" >25</td>\n",
              "      <td id=\"T_63536_row1_col1\" class=\"data row1 col1\" >34</td>\n",
              "      <td id=\"T_63536_row1_col2\" class=\"data row1 col2\" >62</td>\n",
              "      <td id=\"T_63536_row1_col3\" class=\"data row1 col3\" >19</td>\n",
              "      <td id=\"T_63536_row1_col4\" class=\"data row1 col4\" >140</td>\n",
              "    </tr>\n",
              "    <tr>\n",
              "      <th id=\"T_63536_level0_row2\" class=\"row_heading level0 row2\" rowspan=\"2\">Male</th>\n",
              "      <th id=\"T_63536_level1_row2\" class=\"row_heading level1 row2\" >0</th>\n",
              "      <td id=\"T_63536_row2_col0\" class=\"data row2 col0\" >670</td>\n",
              "      <td id=\"T_63536_row2_col1\" class=\"data row2 col1\" >367</td>\n",
              "      <td id=\"T_63536_row2_col2\" class=\"data row2 col2\" >617</td>\n",
              "      <td id=\"T_63536_row2_col3\" class=\"data row2 col3\" >312</td>\n",
              "      <td id=\"T_63536_row2_col4\" class=\"data row2 col4\" >1966</td>\n",
              "    </tr>\n",
              "    <tr>\n",
              "      <th id=\"T_63536_level1_row3\" class=\"row_heading level1 row3\" >1</th>\n",
              "      <td id=\"T_63536_row3_col0\" class=\"data row3 col0\" >22</td>\n",
              "      <td id=\"T_63536_row3_col1\" class=\"data row3 col1\" >36</td>\n",
              "      <td id=\"T_63536_row3_col2\" class=\"data row3 col2\" >27</td>\n",
              "      <td id=\"T_63536_row3_col3\" class=\"data row3 col3\" >23</td>\n",
              "      <td id=\"T_63536_row3_col4\" class=\"data row3 col4\" >108</td>\n",
              "    </tr>\n",
              "    <tr>\n",
              "      <th id=\"T_63536_level0_row4\" class=\"row_heading level0 row4\" >All</th>\n",
              "      <th id=\"T_63536_level1_row4\" class=\"row_heading level1 row4\" ></th>\n",
              "      <td id=\"T_63536_row4_col0\" class=\"data row4 col0\" >1500</td>\n",
              "      <td id=\"T_63536_row4_col1\" class=\"data row4 col1\" >867</td>\n",
              "      <td id=\"T_63536_row4_col2\" class=\"data row4 col2\" >1838</td>\n",
              "      <td id=\"T_63536_row4_col3\" class=\"data row4 col3\" >776</td>\n",
              "      <td id=\"T_63536_row4_col4\" class=\"data row4 col4\" >4981</td>\n",
              "    </tr>\n",
              "  </tbody>\n",
              "</table>\n"
            ]
          },
          "metadata": {},
          "execution_count": 126
        }
      ]
    },
    {
      "cell_type": "code",
      "source": [
        "plt.figure(figsize = (15,8))\n",
        "sns.factorplot('smoking_status','stroke',hue='gender',data=Brain_stroke_data)\n",
        "plt.show()"
      ],
      "metadata": {
        "id": "8csEtXn4BBji",
        "colab": {
          "base_uri": "https://localhost:8080/",
          "height": 387
        },
        "outputId": "6ae1425b-c92c-4096-bac1-956df6dc0626"
      },
      "execution_count": 127,
      "outputs": [
        {
          "output_type": "display_data",
          "data": {
            "text/plain": [
              "<Figure size 1080x576 with 0 Axes>"
            ]
          },
          "metadata": {}
        },
        {
          "output_type": "display_data",
          "data": {
            "text/plain": [
              "<Figure size 432.125x360 with 1 Axes>"
            ],
            "image/png": "[encoded data removed]"
          },
          "metadata": {
            "needs_background": "light"
          }
        }
      ]
    },
    {
      "cell_type": "code",
      "source": [
        "print('Youngest Person was of:',Brain_stroke_data['age'].min(),'Years')\n",
        "print('Average Age in the data:',Brain_stroke_data['age'].mean(),'Years')\n",
        "print('Oldest Person was of:',Brain_stroke_data['age'].max(),'Years')"
      ],
      "metadata": {
        "colab": {
          "base_uri": "https://localhost:8080/"
        },
        "id": "u6W4sVK69IO0",
        "outputId": "182c87f6-3c8f-4211-d77e-ac970923086c"
      },
      "execution_count": 128,
      "outputs": [
        {
          "output_type": "stream",
          "name": "stdout",
          "text": [
            "Youngest Person was of: 0.08 Years\n",
            "Average Age in the data: 43.41985946597069 Years\n",
            "Oldest Person was of: 82.0 Years\n"
          ]
        }
      ]
    },
    {
      "cell_type": "code",
      "source": [
        "print('Minimum \"Average Glucose Level\" in data:',Brain_stroke_data['avg_glucose_level'].min())\n",
        "print('Average \"Average Glucose Level\" in data:',Brain_stroke_data['avg_glucose_level'].mean())\n",
        "print('Maximum \"Average Glucose Level\" in data:',Brain_stroke_data['avg_glucose_level'].max())"
      ],
      "metadata": {
        "colab": {
          "base_uri": "https://localhost:8080/"
        },
        "id": "NRpYaqAO_TAv",
        "outputId": "12ae8aa1-ace7-43a4-d4cf-f115f048bb3d"
      },
      "execution_count": 129,
      "outputs": [
        {
          "output_type": "stream",
          "name": "stdout",
          "text": [
            "Minimum \"Average Glucose Level\" in data: 55.12\n",
            "Average \"Average Glucose Level\" in data: 105.94356153382854\n",
            "Maximum \"Average Glucose Level\" in data: 271.74\n"
          ]
        }
      ]
    },
    {
      "cell_type": "code",
      "source": [
        "print('Minimum \"BMI\" in data:',Brain_stroke_data['bmi'].min())\n",
        "print('Average \"BMI\" in data:',Brain_stroke_data['bmi'].mean())\n",
        "print('Maximum \"BMI\" in data:',Brain_stroke_data['bmi'].max())\n",
        "details=[Brain_stroke_data['age'].min(),Brain_stroke_data['age'].max(),Brain_stroke_data['age'].mean()]"
      ],
      "metadata": {
        "colab": {
          "base_uri": "https://localhost:8080/"
        },
        "id": "v9elWRul_l3T",
        "outputId": "c03e3f4d-0baf-41f7-fc32-1dc1e6a0b564"
      },
      "execution_count": 146,
      "outputs": [
        {
          "output_type": "stream",
          "name": "stdout",
          "text": [
            "Minimum \"BMI\" in data: 14.0\n",
            "Average \"BMI\" in data: 28.498173057618956\n",
            "Maximum \"BMI\" in data: 48.9\n"
          ]
        }
      ]
    },
    {
      "cell_type": "code",
      "source": [
        "f,ax=plt.subplots(1,4,figsize=(20,8))\n",
        "sns.distplot(Brain_stroke_data[Brain_stroke_data['smoking_status']==\"formerly smoked\"].avg_glucose_level,ax=ax[0])\n",
        "ax[0].set_title('Smokes status in formerly smoked')\n",
        "sns.distplot(Brain_stroke_data[Brain_stroke_data['smoking_status']==\"smokes\"].avg_glucose_level,ax=ax[1])\n",
        "ax[1].set_title('Smokes status in smokes')\n",
        "sns.distplot(Brain_stroke_data[Brain_stroke_data['smoking_status']== \"never smoked\"].avg_glucose_level,ax=ax[2])\n",
        "ax[2].set_title('Smokes status in never smokes')\n",
        "sns.distplot(Brain_stroke_data[Brain_stroke_data['smoking_status']== \"Unknown\"].avg_glucose_level,ax=ax[3])\n",
        "ax[3].set_title('Smokes status in Unknown')\n",
        "plt.show()"
      ],
      "metadata": {
        "id": "fxFiETzV_1OV",
        "colab": {
          "base_uri": "https://localhost:8080/",
          "height": 336
        },
        "outputId": "f6ec9fc5-a43e-402d-cf79-70a10c2447e6"
      },
      "execution_count": 156,
      "outputs": [
        {
          "output_type": "display_data",
          "data": {
            "text/plain": [
              "<Figure size 1440x576 with 4 Axes>"
            ],
            "image/png": "[encoded data removed]"
          },
          "metadata": {
            "needs_background": "light"
          }
        }
      ]
    },
    {
      "cell_type": "code",
      "source": [
        "sns.heatmap(Brain_stroke_data.corr(),annot=True,linewidths=0.2) #data.corr()-->correlation matrix\n",
        "fig=plt.gcf()\n",
        "fig.set_size_inches(10,8)\n",
        "plt.show()"
      ],
      "metadata": {
        "colab": {
          "base_uri": "https://localhost:8080/",
          "height": 568
        },
        "id": "vJfwcEq_RI44",
        "outputId": "2912136c-17f9-41de-a02d-6fd28ee09fae"
      },
      "execution_count": 161,
      "outputs": [
        {
          "output_type": "display_data",
          "data": {
            "text/plain": [
              "<Figure size 720x576 with 2 Axes>"
            ],
            "image/png": "[encoded data removed]"
          },
          "metadata": {
            "needs_background": "light"
          }
        }
      ]
    },
    {
      "cell_type": "code",
      "source": [
        "Brain_stroke_data.insert(2,'age_band', np.zeros)"
      ],
      "metadata": {
        "id": "I5irKWqYR50w"
      },
      "execution_count": 163,
      "outputs": []
    },
    {
      "cell_type": "code",
      "source": [
        "Brain_stroke_data.loc[Brain_stroke_data['age']<=16,'age_band']=0\n",
        "Brain_stroke_data.loc[(Brain_stroke_data['age']>16)&(data['age']<=32),'age_band']=1\n",
        "Brain_stroke_data.loc[(Brain_stroke_data['age']>32)&(data['age']<=48),'age_band']=2\n",
        "Brain_stroke_data.loc[(Brain_stroke_data['age']>48)&(data['age']<=64),'age_band']=3\n",
        "Brain_stroke_data.loc[Brain_stroke_data['age']>64,'age_band']=4"
      ],
      "metadata": {
        "id": "KrbGaBqm-9PI"
      },
      "execution_count": 165,
      "outputs": []
    },
    {
      "cell_type": "code",
      "source": [
        "Brain_stroke_data.drop(columns= \"age\", inplace=True)"
      ],
      "metadata": {
        "id": "raxiNuU7TR5h"
      },
      "execution_count": 167,
      "outputs": []
    },
    {
      "cell_type": "code",
      "source": [
        "Brain_stroke_data[\"age_band\"]=Brain_stroke_data['age_band'].astype(str).astype(int)\n",
        "Brain_stroke_data.head()"
      ],
      "metadata": {
        "colab": {
          "base_uri": "https://localhost:8080/",
          "height": 270
        },
        "id": "RyIFzbXdTXtI",
        "outputId": "f83da3cc-8702-4495-b41b-6382e80c0f5f"
      },
      "execution_count": 168,
      "outputs": [
        {
          "output_type": "execute_result",
          "data": {
            "text/plain": [
              "   gender  age_band  hypertension  heart_disease  avg_glucose_level   bmi  \\\n",
              "0    Male         4             0              1             228.69  36.6   \n",
              "1    Male         4             0              1             105.92  32.5   \n",
              "2  Female         3             0              0             171.23  34.4   \n",
              "3  Female         4             1              0             174.12  24.0   \n",
              "4    Male         4             0              0             186.21  29.0   \n",
              "\n",
              "    smoking_status  stroke  \n",
              "0  formerly smoked       1  \n",
              "1     never smoked       1  \n",
              "2           smokes       1  \n",
              "3     never smoked       1  \n",
              "4  formerly smoked       1  "
            ],
            "text/html": [
              "\n",
              "  <div id=\"df-304d3d59-5bd1-4d9f-b853-9d5cb5d2ab89\">\n",
              "    <div class=\"colab-df-container\">\n",
              "      <div>\n",
              "<style scoped>\n",
              "    .dataframe tbody tr th:only-of-type {\n",
              "        vertical-align: middle;\n",
              "    }\n",
              "\n",
              "    .dataframe tbody tr th {\n",
              "        vertical-align: top;\n",
              "    }\n",
              "\n",
              "    .dataframe thead th {\n",
              "        text-align: right;\n",
              "    }\n",
              "</style>\n",
              "<table border=\"1\" class=\"dataframe\">\n",
              "  <thead>\n",
              "    <tr style=\"text-align: right;\">\n",
              "      <th></th>\n",
              "      <th>gender</th>\n",
              "      <th>age_band</th>\n",
              "      <th>hypertension</th>\n",
              "      <th>heart_disease</th>\n",
              "      <th>avg_glucose_level</th>\n",
              "      <th>bmi</th>\n",
              "      <th>smoking_status</th>\n",
              "      <th>stroke</th>\n",
              "    </tr>\n",
              "  </thead>\n",
              "  <tbody>\n",
              "    <tr>\n",
              "      <th>0</th>\n",
              "      <td>Male</td>\n",
              "      <td>4</td>\n",
              "      <td>0</td>\n",
              "      <td>1</td>\n",
              "      <td>228.69</td>\n",
              "      <td>36.6</td>\n",
              "      <td>formerly smoked</td>\n",
              "      <td>1</td>\n",
              "    </tr>\n",
              "    <tr>\n",
              "      <th>1</th>\n",
              "      <td>Male</td>\n",
              "      <td>4</td>\n",
              "      <td>0</td>\n",
              "      <td>1</td>\n",
              "      <td>105.92</td>\n",
              "      <td>32.5</td>\n",
              "      <td>never smoked</td>\n",
              "      <td>1</td>\n",
              "    </tr>\n",
              "    <tr>\n",
              "      <th>2</th>\n",
              "      <td>Female</td>\n",
              "      <td>3</td>\n",
              "      <td>0</td>\n",
              "      <td>0</td>\n",
              "      <td>171.23</td>\n",
              "      <td>34.4</td>\n",
              "      <td>smokes</td>\n",
              "      <td>1</td>\n",
              "    </tr>\n",
              "    <tr>\n",
              "      <th>3</th>\n",
              "      <td>Female</td>\n",
              "      <td>4</td>\n",
              "      <td>1</td>\n",
              "      <td>0</td>\n",
              "      <td>174.12</td>\n",
              "      <td>24.0</td>\n",
              "      <td>never smoked</td>\n",
              "      <td>1</td>\n",
              "    </tr>\n",
              "    <tr>\n",
              "      <th>4</th>\n",
              "      <td>Male</td>\n",
              "      <td>4</td>\n",
              "      <td>0</td>\n",
              "      <td>0</td>\n",
              "      <td>186.21</td>\n",
              "      <td>29.0</td>\n",
              "      <td>formerly smoked</td>\n",
              "      <td>1</td>\n",
              "    </tr>\n",
              "  </tbody>\n",
              "</table>\n",
              "</div>\n",
              "      <button class=\"colab-df-convert\" onclick=\"convertToInteractive('df-304d3d59-5bd1-4d9f-b853-9d5cb5d2ab89')\"\n",
              "              title=\"Convert this dataframe to an interactive table.\"\n",
              "              style=\"display:none;\">\n",
              "        \n",
              "  <svg xmlns=\"http://www.w3.org/2000/svg\" height=\"24px\"viewBox=\"0 0 24 24\"\n",
              "       width=\"24px\">\n",
              "    <path d=\"M0 0h24v24H0V0z\" fill=\"none\"/>\n",
              "    <path d=\"M18.56 5.44l.94 2.06.94-2.06 2.06-.94-2.06-.94-.94-2.06-.94 2.06-2.06.94zm-11 1L8.5 8.5l.94-2.06 2.06-.94-2.06-.94L8.5 2.5l-.94 2.06-2.06.94zm10 10l.94 2.06.94-2.06 2.06-.94-2.06-.94-.94-2.06-.94 2.06-2.06.94z\"/><path d=\"M17.41 7.96l-1.37-1.37c-.4-.4-.92-.59-1.43-.59-.52 0-1.04.2-1.43.59L10.3 9.45l-7.72 7.72c-.78.78-.78 2.05 0 2.83L4 21.41c.39.39.9.59 1.41.59.51 0 1.02-.2 1.41-.59l7.78-7.78 2.81-2.81c.8-.78.8-2.07 0-2.86zM5.41 20L4 18.59l7.72-7.72 1.47 1.35L5.41 20z\"/>\n",
              "  </svg>\n",
              "      </button>\n",
              "      \n",
              "  <style>\n",
              "    .colab-df-container {\n",
              "      display:flex;\n",
              "      flex-wrap:wrap;\n",
              "      gap: 12px;\n",
              "    }\n",
              "\n",
              "    .colab-df-convert {\n",
              "      background-color: #E8F0FE;\n",
              "      border: none;\n",
              "      border-radius: 50%;\n",
              "      cursor: pointer;\n",
              "      display: none;\n",
              "      fill: #1967D2;\n",
              "      height: 32px;\n",
              "      padding: 0 0 0 0;\n",
              "      width: 32px;\n",
              "    }\n",
              "\n",
              "    .colab-df-convert:hover {\n",
              "      background-color: #E2EBFA;\n",
              "      box-shadow: 0px 1px 2px rgba(60, 64, 67, 0.3), 0px 1px 3px 1px rgba(60, 64, 67, 0.15);\n",
              "      fill: #174EA6;\n",
              "    }\n",
              "\n",
              "    [theme=dark] .colab-df-convert {\n",
              "      background-color: #3B4455;\n",
              "      fill: #D2E3FC;\n",
              "    }\n",
              "\n",
              "    [theme=dark] .colab-df-convert:hover {\n",
              "      background-color: #434B5C;\n",
              "      box-shadow: 0px 1px 3px 1px rgba(0, 0, 0, 0.15);\n",
              "      filter: drop-shadow(0px 1px 2px rgba(0, 0, 0, 0.3));\n",
              "      fill: #FFFFFF;\n",
              "    }\n",
              "  </style>\n",
              "\n",
              "      <script>\n",
              "        const buttonEl =\n",
              "          document.querySelector('#df-304d3d59-5bd1-4d9f-b853-9d5cb5d2ab89 button.colab-df-convert');\n",
              "        buttonEl.style.display =\n",
              "          google.colab.kernel.accessAllowed ? 'block' : 'none';\n",
              "\n",
              "        async function convertToInteractive(key) {\n",
              "          const element = document.querySelector('#df-304d3d59-5bd1-4d9f-b853-9d5cb5d2ab89');\n",
              "          const dataTable =\n",
              "            await google.colab.kernel.invokeFunction('convertToInteractive',\n",
              "                                                     [key], {});\n",
              "          if (!dataTable) return;\n",
              "\n",
              "          const docLinkHtml = 'Like what you see? Visit the ' +\n",
              "            '<a target=\"_blank\" href=https://colab.research.google.com/notebooks/data_table.ipynb>data table notebook</a>'\n",
              "            + ' to learn more about interactive tables.';\n",
              "          element.innerHTML = '';\n",
              "          dataTable['output_type'] = 'display_data';\n",
              "          await google.colab.output.renderOutput(dataTable, element);\n",
              "          const docLink = document.createElement('div');\n",
              "          docLink.innerHTML = docLinkHtml;\n",
              "          element.appendChild(docLink);\n",
              "        }\n",
              "      </script>\n",
              "    </div>\n",
              "  </div>\n",
              "  "
            ]
          },
          "metadata": {},
          "execution_count": 168
        }
      ]
    },
    {
      "cell_type": "code",
      "source": [
        "Brain_stroke_data['age_band'].value_counts().to_frame()"
      ],
      "metadata": {
        "colab": {
          "base_uri": "https://localhost:8080/",
          "height": 206
        },
        "id": "8FnEklsjTnYF",
        "outputId": "471c19b8-a641-44ef-d420-0abdfa44d055"
      },
      "execution_count": 171,
      "outputs": [
        {
          "output_type": "execute_result",
          "data": {
            "text/plain": [
              "   age_band\n",
              "3      1229\n",
              "2      1067\n",
              "4      1020\n",
              "1       895\n",
              "0       770"
            ],
            "text/html": [
              "\n",
              "  <div id=\"df-ef5e876a-f381-4658-8218-96948dbce4eb\">\n",
              "    <div class=\"colab-df-container\">\n",
              "      <div>\n",
              "<style scoped>\n",
              "    .dataframe tbody tr th:only-of-type {\n",
              "        vertical-align: middle;\n",
              "    }\n",
              "\n",
              "    .dataframe tbody tr th {\n",
              "        vertical-align: top;\n",
              "    }\n",
              "\n",
              "    .dataframe thead th {\n",
              "        text-align: right;\n",
              "    }\n",
              "</style>\n",
              "<table border=\"1\" class=\"dataframe\">\n",
              "  <thead>\n",
              "    <tr style=\"text-align: right;\">\n",
              "      <th></th>\n",
              "      <th>age_band</th>\n",
              "    </tr>\n",
              "  </thead>\n",
              "  <tbody>\n",
              "    <tr>\n",
              "      <th>3</th>\n",
              "      <td>1229</td>\n",
              "    </tr>\n",
              "    <tr>\n",
              "      <th>2</th>\n",
              "      <td>1067</td>\n",
              "    </tr>\n",
              "    <tr>\n",
              "      <th>4</th>\n",
              "      <td>1020</td>\n",
              "    </tr>\n",
              "    <tr>\n",
              "      <th>1</th>\n",
              "      <td>895</td>\n",
              "    </tr>\n",
              "    <tr>\n",
              "      <th>0</th>\n",
              "      <td>770</td>\n",
              "    </tr>\n",
              "  </tbody>\n",
              "</table>\n",
              "</div>\n",
              "      <button class=\"colab-df-convert\" onclick=\"convertToInteractive('df-ef5e876a-f381-4658-8218-96948dbce4eb')\"\n",
              "              title=\"Convert this dataframe to an interactive table.\"\n",
              "              style=\"display:none;\">\n",
              "        \n",
              "  <svg xmlns=\"http://www.w3.org/2000/svg\" height=\"24px\"viewBox=\"0 0 24 24\"\n",
              "       width=\"24px\">\n",
              "    <path d=\"M0 0h24v24H0V0z\" fill=\"none\"/>\n",
              "    <path d=\"M18.56 5.44l.94 2.06.94-2.06 2.06-.94-2.06-.94-.94-2.06-.94 2.06-2.06.94zm-11 1L8.5 8.5l.94-2.06 2.06-.94-2.06-.94L8.5 2.5l-.94 2.06-2.06.94zm10 10l.94 2.06.94-2.06 2.06-.94-2.06-.94-.94-2.06-.94 2.06-2.06.94z\"/><path d=\"M17.41 7.96l-1.37-1.37c-.4-.4-.92-.59-1.43-.59-.52 0-1.04.2-1.43.59L10.3 9.45l-7.72 7.72c-.78.78-.78 2.05 0 2.83L4 21.41c.39.39.9.59 1.41.59.51 0 1.02-.2 1.41-.59l7.78-7.78 2.81-2.81c.8-.78.8-2.07 0-2.86zM5.41 20L4 18.59l7.72-7.72 1.47 1.35L5.41 20z\"/>\n",
              "  </svg>\n",
              "      </button>\n",
              "      \n",
              "  <style>\n",
              "    .colab-df-container {\n",
              "      display:flex;\n",
              "      flex-wrap:wrap;\n",
              "      gap: 12px;\n",
              "    }\n",
              "\n",
              "    .colab-df-convert {\n",
              "      background-color: #E8F0FE;\n",
              "      border: none;\n",
              "      border-radius: 50%;\n",
              "      cursor: pointer;\n",
              "      display: none;\n",
              "      fill: #1967D2;\n",
              "      height: 32px;\n",
              "      padding: 0 0 0 0;\n",
              "      width: 32px;\n",
              "    }\n",
              "\n",
              "    .colab-df-convert:hover {\n",
              "      background-color: #E2EBFA;\n",
              "      box-shadow: 0px 1px 2px rgba(60, 64, 67, 0.3), 0px 1px 3px 1px rgba(60, 64, 67, 0.15);\n",
              "      fill: #174EA6;\n",
              "    }\n",
              "\n",
              "    [theme=dark] .colab-df-convert {\n",
              "      background-color: #3B4455;\n",
              "      fill: #D2E3FC;\n",
              "    }\n",
              "\n",
              "    [theme=dark] .colab-df-convert:hover {\n",
              "      background-color: #434B5C;\n",
              "      box-shadow: 0px 1px 3px 1px rgba(0, 0, 0, 0.15);\n",
              "      filter: drop-shadow(0px 1px 2px rgba(0, 0, 0, 0.3));\n",
              "      fill: #FFFFFF;\n",
              "    }\n",
              "  </style>\n",
              "\n",
              "      <script>\n",
              "        const buttonEl =\n",
              "          document.querySelector('#df-ef5e876a-f381-4658-8218-96948dbce4eb button.colab-df-convert');\n",
              "        buttonEl.style.display =\n",
              "          google.colab.kernel.accessAllowed ? 'block' : 'none';\n",
              "\n",
              "        async function convertToInteractive(key) {\n",
              "          const element = document.querySelector('#df-ef5e876a-f381-4658-8218-96948dbce4eb');\n",
              "          const dataTable =\n",
              "            await google.colab.kernel.invokeFunction('convertToInteractive',\n",
              "                                                     [key], {});\n",
              "          if (!dataTable) return;\n",
              "\n",
              "          const docLinkHtml = 'Like what you see? Visit the ' +\n",
              "            '<a target=\"_blank\" href=https://colab.research.google.com/notebooks/data_table.ipynb>data table notebook</a>'\n",
              "            + ' to learn more about interactive tables.';\n",
              "          element.innerHTML = '';\n",
              "          dataTable['output_type'] = 'display_data';\n",
              "          await google.colab.output.renderOutput(dataTable, element);\n",
              "          const docLink = document.createElement('div');\n",
              "          docLink.innerHTML = docLinkHtml;\n",
              "          element.appendChild(docLink);\n",
              "        }\n",
              "      </script>\n",
              "    </div>\n",
              "  </div>\n",
              "  "
            ]
          },
          "metadata": {},
          "execution_count": 171
        }
      ]
    },
    {
      "cell_type": "code",
      "source": [
        "sns.factorplot('age_band','stroke',data=Brain_stroke_data,col='smoking_status')\n",
        "plt.show()"
      ],
      "metadata": {
        "colab": {
          "base_uri": "https://localhost:8080/",
          "height": 204
        },
        "id": "UHVoCDbvTwkV",
        "outputId": "8863aec2-2f00-4d21-952b-2e858b944eaf"
      },
      "execution_count": 172,
      "outputs": [
        {
          "output_type": "display_data",
          "data": {
            "text/plain": [
              "<Figure size 1440x360 with 4 Axes>"
            ],
            "image/png": "[encoded data removed]"
          },
          "metadata": {
            "needs_background": "light"
          }
        }
      ]
    },
    {
      "cell_type": "code",
      "source": [
        "# copy the data\n",
        "Brain_stroke_data = Brain_stroke_data.copy()\n",
        "  \n",
        "# apply normalization techniques on Columns\n",
        "column = 'avg_glucose_level'\n",
        "column2 = 'bmi'\n",
        "Brain_stroke_data[column] = Brain_stroke_data[column] /Brain_stroke_data[column].abs().max()\n",
        "Brain_stroke_data[column2] = Brain_stroke_data[column2] /Brain_stroke_data[column2].abs().max()\n",
        "  \n",
        "# view normalized data\n",
        "display(Brain_stroke_data[column], Brain_stroke_data[column2])"
      ],
      "metadata": {
        "colab": {
          "base_uri": "https://localhost:8080/",
          "height": 446
        },
        "id": "JgKIIu2pUDSc",
        "outputId": "72d78087-878b-4bbb-bcd5-f8f742dc8af8"
      },
      "execution_count": 174,
      "outputs": [
        {
          "output_type": "display_data",
          "data": {
            "text/plain": [
              "0       0.841577\n",
              "1       0.389784\n",
              "2       0.630124\n",
              "3       0.640760\n",
              "4       0.685251\n",
              "          ...   \n",
              "4976    0.258151\n",
              "4977    0.703430\n",
              "4978    0.349672\n",
              "4979    0.308898\n",
              "4980    0.308199\n",
              "Name: avg_glucose_level, Length: 4981, dtype: float64"
            ]
          },
          "metadata": {}
        },
        {
          "output_type": "display_data",
          "data": {
            "text/plain": [
              "0       0.748466\n",
              "1       0.664622\n",
              "2       0.703476\n",
              "3       0.490798\n",
              "4       0.593047\n",
              "          ...   \n",
              "4976    0.609407\n",
              "4977    0.635992\n",
              "4978    0.650307\n",
              "4979    0.613497\n",
              "4980    0.595092\n",
              "Name: bmi, Length: 4981, dtype: float64"
            ]
          },
          "metadata": {}
        }
      ]
    },
    {
      "cell_type": "code",
      "source": [
        "Brain_stroke_data['gender'].replace(['Male','Female'],[0,1],inplace=True)\n",
        "Brain_stroke_data['gender'].head()"
      ],
      "metadata": {
        "colab": {
          "base_uri": "https://localhost:8080/"
        },
        "id": "sjbHisG7UZ6T",
        "outputId": "01838ecb-e573-49e4-a951-da192fc4070a"
      },
      "execution_count": 175,
      "outputs": [
        {
          "output_type": "execute_result",
          "data": {
            "text/plain": [
              "0    0\n",
              "1    0\n",
              "2    1\n",
              "3    1\n",
              "4    0\n",
              "Name: gender, dtype: int64"
            ]
          },
          "metadata": {},
          "execution_count": 175
        }
      ]
    },
    {
      "cell_type": "code",
      "source": [
        "# What was the smoking status variables\n",
        "data[\"smoking_status\"].unique()\n",
        "\n"
      ],
      "metadata": {
        "id": "hHAElAIoU720"
      },
      "execution_count": null,
      "outputs": []
    }
  ],
  "metadata": {
    "colab": {
      "provenance": [],
      "include_colab_link": true
    },
    "kernelspec": {
      "display_name": "Python 3",
      "name": "python3"
    },
    "language_info": {
      "name": "python"
    }
  },
  "nbformat": 4,
  "nbformat_minor": 0
}